{
 "cells": [
  {
   "cell_type": "code",
   "execution_count": 2,
   "id": "e9f77425-d5d7-4c2c-bc15-ff197d386acf",
   "metadata": {
    "tags": []
   },
   "outputs": [],
   "source": [
    "%load_ext autoreload\n",
    "%autoreload 2"
   ]
  },
  {
   "cell_type": "code",
   "execution_count": 3,
   "id": "982f795c-a6bc-4195-a039-d2e9e4a2aa78",
   "metadata": {
    "tags": []
   },
   "outputs": [
    {
     "name": "stderr",
     "output_type": "stream",
     "text": [
      "/home/jakwisn/.pyenv/versions/3.11.4/lib/python3.11/site-packages/torchvision/datapoints/__init__.py:12: UserWarning: The torchvision.datapoints and torchvision.transforms.v2 namespaces are still Beta. While we do not expect major breaking changes, some APIs may still change according to user feedback. Please submit any feedback you may have in this issue: https://github.com/pytorch/vision/issues/6753, and you can also check out https://github.com/pytorch/vision/issues/7319 to learn more about the APIs that we suspect might involve future changes. You can silence this warning by calling torchvision.disable_beta_transforms_warning().\n",
      "  warnings.warn(_BETA_TRANSFORMS_WARNING)\n",
      "/home/jakwisn/.pyenv/versions/3.11.4/lib/python3.11/site-packages/torchvision/transforms/v2/__init__.py:54: UserWarning: The torchvision.datapoints and torchvision.transforms.v2 namespaces are still Beta. While we do not expect major breaking changes, some APIs may still change according to user feedback. Please submit any feedback you may have in this issue: https://github.com/pytorch/vision/issues/6753, and you can also check out https://github.com/pytorch/vision/issues/7319 to learn more about the APIs that we suspect might involve future changes. You can silence this warning by calling torchvision.disable_beta_transforms_warning().\n",
      "  warnings.warn(_BETA_TRANSFORMS_WARNING)\n"
     ]
    }
   ],
   "source": [
    "import os\n",
    "from PIL import Image\n",
    "import numpy as np\n",
    "import torch\n",
    "from torch.utils.data import Dataset, DataLoader, SubsetRandomSampler\n",
    "from torchvision import transforms\n",
    "from torchvision.transforms import v2\n",
    "from torchvision.transforms.functional import adjust_contrast\n",
    "import torch.nn.functional as F\n",
    "import matplotlib.pyplot as plt\n",
    "import random\n",
    "import glob\n",
    "from dataset import *\n",
    "\n",
    "from einops import rearrange, repeat"
   ]
  },
  {
   "cell_type": "code",
   "execution_count": 4,
   "id": "0789de3d-683a-49bb-9c7a-61456c4a7d94",
   "metadata": {
    "tags": []
   },
   "outputs": [],
   "source": [
    "SEED = 42\n",
    "\n",
    "def set_seed(seed=SEED):\n",
    "    random.seed(seed)\n",
    "    np.random.seed(seed)\n",
    "    torch.manual_seed(seed)\n",
    "    torch.cuda.manual_seed(seed)\n",
    "    torch.cuda.manual_seed_all(seed)\n",
    "    torch.backends.cudnn.deterministic = True\n",
    "    \n",
    "set_seed()"
   ]
  },
  {
   "cell_type": "markdown",
   "id": "7cfcb255-238f-430d-98cd-0a6a4a298cfb",
   "metadata": {},
   "source": [
    "# Training the model"
   ]
  },
  {
   "cell_type": "code",
   "execution_count": 5,
   "id": "178eff55-9e52-4a6f-a795-ed07233619a6",
   "metadata": {},
   "outputs": [],
   "source": [
    "input_images = glob.glob('data/training/INPUT_IMAGES/*P1.5.JPG')\n",
    "\n",
    "# hand selected\n",
    "val_images = [] \n",
    "for x in [0,1,3,5,7,9]:\n",
    "    val_images.append(glob.glob('data/validation/GT_IMAGES/*.jpg')[x])\n",
    "\n",
    "test_images = glob.glob('data/validation/GT_IMAGES/*.jpg')"
   ]
  },
  {
   "cell_type": "code",
   "execution_count": 6,
   "id": "0043a532-9887-4864-8410-944be6cffd2c",
   "metadata": {
    "tags": []
   },
   "outputs": [
    {
     "name": "stderr",
     "output_type": "stream",
     "text": [
      "10:05:43 - INFO: Created a temporary directory at /tmp/tmpn3cxy3ra\n",
      "10:05:43 - INFO: Writing /tmp/tmpn3cxy3ra/_remote_module_non_scriptable.py\n"
     ]
    }
   ],
   "source": [
    "from ddpm.ddpm import *\n",
    "from ddpm.ddpm_train import *\n",
    "\n",
    "BATCH_SIZE=6\n",
    "RESIZE_SIZE=32\n",
    "IM_SIZE=32\n",
    "\n",
    "transform = transforms.Compose([\n",
    "    transforms.ToTensor(),                # from [0,255] to range [0.0,1.0]\n",
    "    v2.Resize(size=(RESIZE_SIZE, RESIZE_SIZE)),\n",
    "    #v2.RandomCrop(size=(IM_SIZE, IM_SIZE))\n",
    "    ])\n",
    "\n",
    "def hist_fix(im):\n",
    "    new_im = im.clone()\n",
    "    \n",
    "    new_im[0] = (im[0] - torch.min(im[0])) / (torch.max(im[0])-torch.min(im[0]))\n",
    "    new_im[1] = (im[1] - torch.min(im[1])) / (torch.max(im[1])-torch.min(im[1]))\n",
    "    new_im[2] = (im[2] - torch.min(im[2])) / (torch.max(im[2])-torch.min(im[2]))\n",
    "\n",
    "    return new_im"
   ]
  },
  {
   "cell_type": "code",
   "execution_count": 7,
   "id": "1ba6532f-d74b-48da-853a-52b5596b10f7",
   "metadata": {
    "tags": []
   },
   "outputs": [],
   "source": [
    "train_dataset = CorrectionImageDataset(input_images, train=True, transform=transform)\n",
    "val_dataset = CorrectionImageDataset(val_images, train=False, transform=transform)"
   ]
  },
  {
   "cell_type": "code",
   "execution_count": 11,
   "id": "b8991521-65a6-4880-8b2e-fcd55fffb350",
   "metadata": {},
   "outputs": [
    {
     "name": "stderr",
     "output_type": "stream",
     "text": [
      "/home/jakwisn/.pyenv/versions/3.11.4/lib/python3.11/site-packages/torchvision/transforms/functional.py:1603: UserWarning: The default value of the antialias parameter of all the resizing transforms (Resize(), RandomResizedCrop(), etc.) will change from None to True in v0.17, in order to be consistent across the PIL and Tensor backends. To suppress this warning, directly pass antialias=True (recommended, future default), antialias=None (current default, which means False for Tensors and True for PIL), or antialias=False (only works on Tensors - PIL will still use antialiasing). This also applies if you are using the inference transforms from the models weights: update the call to weights.transforms(antialias=True).\n",
      "  warnings.warn(\n"
     ]
    },
    {
     "data": {
      "text/plain": [
       "<matplotlib.image.AxesImage at 0x7f22245da290>"
      ]
     },
     "execution_count": 11,
     "metadata": {},
     "output_type": "execute_result"
    },
    {
     "data": {
      "image/png": "[encoded data removed]",
      "text/plain": [
       "<Figure size 640x480 with 3 Axes>"
      ]
     },
     "metadata": {},
     "output_type": "display_data"
    }
   ],
   "source": [
    "im, mask = val_dataset[0]\n",
    "\n",
    "fig, axs = plt.subplots(1,3)\n",
    "axs[0].imshow(hist_fix(im).permute((1,2,0)))\n",
    "axs[1].imshow(mask.squeeze(0)) # Unknown region to generate\n",
    "axs[2].imshow(~mask.squeeze(0)) # Known region"
   ]
  },
  {
   "cell_type": "code",
   "execution_count": 12,
   "id": "1e2a221d-3b00-4a2d-94bc-d9c580bfd086",
   "metadata": {},
   "outputs": [],
   "source": [
    "import scipy"
   ]
  },
  {
   "cell_type": "code",
   "execution_count": 13,
   "id": "38b12549-5c6d-4af5-acc0-f46ba3c2fff7",
   "metadata": {
    "tags": []
   },
   "outputs": [],
   "source": [
    "def prepare_loaders():\n",
    "        \n",
    "    device = torch.device('cuda' if torch.cuda.is_available() else None)  \n",
    "    print(f\"Model will run on {device}\")\n",
    "    \n",
    "    dataloader = DataLoader(train_dataset,\n",
    "                            batch_size=BATCH_SIZE,\n",
    "                            shuffle=True,\n",
    "                            num_workers=6, \n",
    "                            #persistent_workers=True,\n",
    "                            pin_memory=True,\n",
    "                           )\n",
    "    \n",
    "    valdataloader = DataLoader(val_dataset,\n",
    "                               batch_size=BATCH_SIZE,\n",
    "                               shuffle=False,\n",
    "                               #persistent_workers=True,\n",
    "                               num_workers=6,\n",
    "                               pin_memory=True)\n",
    "\n",
    "    return dataloader, valdataloader "
   ]
  },
  {
   "cell_type": "code",
   "execution_count": 14,
   "id": "f2dc8c44-723b-4511-bfe5-18808b681bd6",
   "metadata": {},
   "outputs": [
    {
     "name": "stdout",
     "output_type": "stream",
     "text": [
      "Model will run on cuda\n"
     ]
    }
   ],
   "source": [
    "dataloader, valdataloader  = prepare_loaders()"
   ]
  },
  {
   "cell_type": "code",
   "execution_count": 15,
   "id": "fc78f290-7753-4a90-8733-8ebc00a6a1e6",
   "metadata": {},
   "outputs": [
    {
     "name": "stdout",
     "output_type": "stream",
     "text": [
      "Model will run on cuda\n"
     ]
    }
   ],
   "source": [
    "device = torch.device('cuda' if torch.cuda.is_available() else None)  \n",
    "print(f\"Model will run on {device}\")"
   ]
  },
  {
   "cell_type": "code",
   "execution_count": 16,
   "id": "c0e11284-9e80-4e0a-81ee-7e8014de9b5f",
   "metadata": {},
   "outputs": [],
   "source": [
    "import warnings\n",
    "warnings.filterwarnings('ignore')"
   ]
  },
  {
   "cell_type": "markdown",
   "id": "9c9f1109-85ef-4580-937f-1c644d318b42",
   "metadata": {},
   "source": [
    "# First"
   ]
  },
  {
   "cell_type": "code",
   "execution_count": 58,
   "id": "0729fbc6-1327-4a15-9356-6c4489df20a6",
   "metadata": {},
   "outputs": [
    {
     "name": "stderr",
     "output_type": "stream",
     "text": [
      "03:55:13 - INFO: Starting epoch 1:\n",
      "100%|██████████████████████████████████████████████████████████████████████████████████████████████████████████████████████████████████████████████████████████████████████████████| 590/590 [00:40<00:00, 14.55it/s, loss_func=0.0215]\n",
      "100%|████████████████████████████████████████████████████████████████████████████████████████████████████████████████████████████████████████████████████████████████████████████████████████████████████| 1/1 [00:00<00:00,  3.56it/s]\n",
      "03:55:54 - INFO: Sampling 6 new images....\n",
      "100%|████████████████████████████████████████████████████████████████████████████████████████████████████████████████████████████████████████████████████████████████████████████████████████████████| 499/499 [00:17<00:00, 29.15it/s]\n",
      "03:56:11 - WARNING: Clipping input data to the valid range for imshow with RGB data ([0..1] for floats or [0..255] for integers).\n",
      "03:56:11 - INFO: Starting epoch 2:\n",
      "100%|█████████████████████████████████████████████████████████████████████████████████████████████████████████████████████████████████████████████████████████████████████████████| 590/590 [00:40<00:00, 14.66it/s, loss_func=0.00351]\n",
      "03:56:51 - INFO: Starting epoch 3:\n",
      "100%|██████████████████████████████████████████████████████████████████████████████████████████████████████████████████████████████████████████████████████████████████████████████| 590/590 [00:40<00:00, 14.69it/s, loss_func=0.0022]\n",
      "03:57:32 - INFO: Starting epoch 4:\n",
      "100%|███████████████████████████████████████████████████████████████████████████████████████████████████████████████████████████████████████████████████████████████████████████████████| 590/590 [00:40<00:00, 14.65it/s, loss_func=0]\n",
      "03:58:12 - INFO: Starting epoch 5:\n",
      "100%|████████████████████████████████████████████████████████████████████████████████████████████████████████████████████████████████████████████████████████████████████████████| 590/590 [00:41<00:00, 14.06it/s, loss_func=0.000425]\n",
      "03:58:54 - INFO: Starting epoch 6:\n",
      "100%|████████████████████████████████████████████████████████████████████████████████████████████████████████████████████████████████████████████████████████████████████████████| 590/590 [00:41<00:00, 14.26it/s, loss_func=0.000464]\n",
      "100%|████████████████████████████████████████████████████████████████████████████████████████████████████████████████████████████████████████████████████████████████████████████████████████████████████| 1/1 [00:00<00:00,  3.79it/s]\n",
      "03:59:35 - INFO: Sampling 6 new images....\n",
      "100%|████████████████████████████████████████████████████████████████████████████████████████████████████████████████████████████████████████████████████████████████████████████████████████████████| 499/499 [00:18<00:00, 26.70it/s]\n",
      "03:59:54 - WARNING: Clipping input data to the valid range for imshow with RGB data ([0..1] for floats or [0..255] for integers).\n",
      "03:59:55 - INFO: Starting epoch 7:\n",
      "100%|██████████████████████████████████████████████████████████████████████████████████████████████████████████████████████████████████████████████████████████████████████████████| 590/590 [00:40<00:00, 14.57it/s, loss_func=0.0375]\n",
      "04:00:35 - INFO: Starting epoch 8:\n",
      "100%|████████████████████████████████████████████████████████████████████████████████████████████████████████████████████████████████████████████████████████████████████████████| 590/590 [00:40<00:00, 14.54it/s, loss_func=0.000121]\n",
      "04:01:16 - INFO: Starting epoch 9:\n",
      "100%|████████████████████████████████████████████████████████████████████████████████████████████████████████████████████████████████████████████████████████████████████████████| 590/590 [00:41<00:00, 14.20it/s, loss_func=0.000268]\n",
      "04:01:57 - INFO: Starting epoch 10:\n",
      "100%|█████████████████████████████████████████████████████████████████████████████████████████████████████████████████████████████████████████████████████████████████████████████| 590/590 [00:47<00:00, 12.46it/s, loss_func=0.00328]\n",
      "04:02:45 - INFO: Starting epoch 11:\n",
      "100%|████████████████████████████████████████████████████████████████████████████████████████████████████████████████████████████████████████████████████████████████████████████| 590/590 [00:50<00:00, 11.70it/s, loss_func=0.000101]\n",
      "100%|████████████████████████████████████████████████████████████████████████████████████████████████████████████████████████████████████████████████████████████████████████████████████████████████████| 1/1 [00:00<00:00,  3.04it/s]\n",
      "04:03:35 - INFO: Sampling 6 new images....\n",
      "100%|████████████████████████████████████████████████████████████████████████████████████████████████████████████████████████████████████████████████████████████████████████████████████████████████| 499/499 [00:20<00:00, 24.40it/s]\n",
      "04:03:56 - WARNING: Clipping input data to the valid range for imshow with RGB data ([0..1] for floats or [0..255] for integers).\n",
      "04:03:56 - INFO: Starting epoch 12:\n",
      "100%|██████████████████████████████████████████████████████████████████████████████████████████████████████████████████████████████████████████████████████████████████████████████| 590/590 [00:49<00:00, 11.82it/s, loss_func=0.0063]\n",
      "04:04:46 - INFO: Starting epoch 13:\n",
      "100%|█████████████████████████████████████████████████████████████████████████████████████████████████████████████████████████████████████████████████████████████████████████████| 590/590 [00:52<00:00, 11.22it/s, loss_func=0.00565]\n",
      "04:05:39 - INFO: Starting epoch 14:\n",
      "100%|█████████████████████████████████████████████████████████████████████████████████████████████████████████████████████████████████████████████████████████████████████████████| 590/590 [00:52<00:00, 11.28it/s, loss_func=0.00302]\n",
      "04:06:31 - INFO: Starting epoch 15:\n",
      "100%|██████████████████████████████████████████████████████████████████████████████████████████████████████████████████████████████████████████████████████████████████████████████| 590/590 [00:53<00:00, 10.99it/s, loss_func=0.0067]\n",
      "04:07:25 - INFO: Starting epoch 16:\n",
      "100%|█████████████████████████████████████████████████████████████████████████████████████████████████████████████████████████████████████████████████████████████████████████████| 590/590 [00:53<00:00, 10.95it/s, loss_func=4.44e-5]\n",
      "100%|████████████████████████████████████████████████████████████████████████████████████████████████████████████████████████████████████████████████████████████████████████████████████████████████████| 1/1 [00:00<00:00,  2.59it/s]\n",
      "04:08:19 - INFO: Sampling 6 new images....\n",
      "100%|████████████████████████████████████████████████████████████████████████████████████████████████████████████████████████████████████████████████████████████████████████████████████████████████| 499/499 [00:25<00:00, 19.23it/s]\n",
      "04:08:45 - WARNING: Clipping input data to the valid range for imshow with RGB data ([0..1] for floats or [0..255] for integers).\n",
      "04:08:45 - INFO: Starting epoch 17:\n",
      "100%|█████████████████████████████████████████████████████████████████████████████████████████████████████████████████████████████████████████████████████████████████████████████| 590/590 [00:57<00:00, 10.26it/s, loss_func=4.04e-5]\n",
      "04:09:43 - INFO: Starting epoch 18:\n",
      "100%|██████████████████████████████████████████████████████████████████████████████████████████████████████████████████████████████████████████████████████████████████████████████| 590/590 [00:56<00:00, 10.39it/s, loss_func=0.0067]\n",
      "04:10:40 - INFO: Starting epoch 19:\n",
      "100%|█████████████████████████████████████████████████████████████████████████████████████████████████████████████████████████████████████████████████████████████████████████████| 590/590 [01:01<00:00,  9.54it/s, loss_func=0.00102]\n",
      "04:11:42 - INFO: Starting epoch 20:\n",
      "100%|████████████████████████████████████████████████████████████████████████████████████████████████████████████████████████████████████████████████████████████████████████████| 590/590 [01:01<00:00,  9.63it/s, loss_func=0.000327]\n",
      "04:12:43 - INFO: Starting epoch 21:\n",
      "100%|█████████████████████████████████████████████████████████████████████████████████████████████████████████████████████████████████████████████████████████████████████████████| 590/590 [01:04<00:00,  9.19it/s, loss_func=0.00368]\n",
      "100%|████████████████████████████████████████████████████████████████████████████████████████████████████████████████████████████████████████████████████████████████████████████████████████████████████| 1/1 [00:00<00:00,  2.76it/s]\n",
      "04:13:47 - INFO: Sampling 6 new images....\n",
      "100%|████████████████████████████████████████████████████████████████████████████████████████████████████████████████████████████████████████████████████████████████████████████████████████████████| 499/499 [00:31<00:00, 15.71it/s]\n",
      "04:14:19 - WARNING: Clipping input data to the valid range for imshow with RGB data ([0..1] for floats or [0..255] for integers).\n",
      "04:14:20 - INFO: Starting epoch 22:\n",
      "100%|████████████████████████████████████████████████████████████████████████████████████████████████████████████████████████████████████████████████████████████████████████████████| 590/590 [00:52<00:00, 11.26it/s, loss_func=4e-5]\n",
      "04:15:12 - INFO: Starting epoch 23:\n",
      "100%|█████████████████████████████████████████████████████████████████████████████████████████████████████████████████████████████████████████████████████████████████████████████| 590/590 [00:48<00:00, 12.21it/s, loss_func=0.00044]\n",
      "04:16:00 - INFO: Starting epoch 24:\n",
      "100%|█████████████████████████████████████████████████████████████████████████████████████████████████████████████████████████████████████████████████████████████████████████████| 590/590 [00:47<00:00, 12.54it/s, loss_func=0.00188]\n",
      "04:16:47 - INFO: Starting epoch 25:\n",
      "100%|█████████████████████████████████████████████████████████████████████████████████████████████████████████████████████████████████████████████████████████████████████████████| 590/590 [00:44<00:00, 13.21it/s, loss_func=0.00158]\n",
      "04:17:32 - INFO: Starting epoch 26:\n",
      "100%|████████████████████████████████████████████████████████████████████████████████████████████████████████████████████████████████████████████████████████████████████████████| 590/590 [00:44<00:00, 13.41it/s, loss_func=0.000929]\n",
      "100%|████████████████████████████████████████████████████████████████████████████████████████████████████████████████████████████████████████████████████████████████████████████████████████████████████| 1/1 [00:00<00:00,  2.96it/s]\n",
      "04:18:16 - INFO: Sampling 6 new images....\n",
      "100%|████████████████████████████████████████████████████████████████████████████████████████████████████████████████████████████████████████████████████████████████████████████████████████████████| 499/499 [00:18<00:00, 26.44it/s]\n",
      "04:18:35 - WARNING: Clipping input data to the valid range for imshow with RGB data ([0..1] for floats or [0..255] for integers).\n",
      "04:18:36 - INFO: Starting epoch 27:\n",
      "100%|█████████████████████████████████████████████████████████████████████████████████████████████████████████████████████████████████████████████████████████████████████████████| 590/590 [00:44<00:00, 13.23it/s, loss_func=0.00843]\n",
      "04:19:20 - INFO: Starting epoch 28:\n",
      "100%|█████████████████████████████████████████████████████████████████████████████████████████████████████████████████████████████████████████████████████████████████████████████| 590/590 [00:45<00:00, 12.94it/s, loss_func=0.00098]\n",
      "04:20:06 - INFO: Starting epoch 29:\n",
      "100%|█████████████████████████████████████████████████████████████████████████████████████████████████████████████████████████████████████████████████████████████████████████████| 590/590 [00:45<00:00, 12.85it/s, loss_func=0.00188]\n",
      "04:20:52 - INFO: Starting epoch 30:\n",
      "100%|█████████████████████████████████████████████████████████████████████████████████████████████| 590/590 [00:45<00:00, 13.04it/s, loss_func=0.00265]\n"
     ]
    }
   ],
   "source": [
    "train(dataloader, \n",
    "      valdataloader,\n",
    "      device=device, \n",
    "      T=500, \n",
    "      img_size=IM_SIZE, \n",
    "      channels=64, \n",
    "      batch_size=BATCH_SIZE, \n",
    "      pretrained=True, \n",
    "      metric='MSE',\n",
    "      experiment_name='training_mse_32', \n",
    "      lr=0.0001,\n",
    "      #max_steps=50\n",
    "      )"
   ]
  },
  {
   "cell_type": "code",
   "execution_count": 59,
   "id": "5159ff07-abf2-4b1d-b886-91bc8f565739",
   "metadata": {},
   "outputs": [
    {
     "name": "stderr",
     "output_type": "stream",
     "text": [
      "04:21:38 - INFO: Starting epoch 1:\n",
      "100%|██████████████████████████████████████████████████████████████████████████████████████████████| 590/590 [00:43<00:00, 13.55it/s, loss_func=0.0173]\n",
      "100%|████████████████████████████████████████████████████████████████████████████████████████████████████████████████████| 1/1 [00:00<00:00,  3.31it/s]\n",
      "04:22:21 - INFO: Sampling 6 new images....\n",
      "100%|████████████████████████████████████████████████████████████████████████████████████████████████████████████████| 499/499 [00:19<00:00, 25.29it/s]\n",
      "04:22:41 - WARNING: Clipping input data to the valid range for imshow with RGB data ([0..1] for floats or [0..255] for integers).\n",
      "04:22:42 - INFO: Starting epoch 2:\n",
      "100%|██████████████████████████████████████████████████████████████████████████████████████████████| 590/590 [00:43<00:00, 13.66it/s, loss_func=0.0111]\n",
      "04:23:25 - INFO: Starting epoch 3:\n",
      "100%|█████████████████████████████████████████████████████████████████████████████████████████████| 590/590 [00:44<00:00, 13.18it/s, loss_func=0.00826]\n",
      "04:24:10 - INFO: Starting epoch 4:\n",
      "100%|██████████████████████████████████████████████████████████████████████████████████████████████| 590/590 [00:42<00:00, 13.80it/s, loss_func=0.0241]\n",
      "04:24:52 - INFO: Starting epoch 5:\n",
      "100%|█████████████████████████████████████████████████████████████████████████████████████████████| 590/590 [00:48<00:00, 12.12it/s, loss_func=0.00963]\n",
      "04:25:41 - INFO: Starting epoch 6:\n",
      "100%|██████████████████████████████████████████████████████████████████████████████████████████████| 590/590 [00:46<00:00, 12.81it/s, loss_func=0.0232]\n",
      "100%|████████████████████████████████████████████████████████████████████████████████████████████████████████████████████| 1/1 [00:00<00:00,  3.23it/s]\n",
      "04:26:27 - INFO: Sampling 6 new images....\n",
      "100%|████████████████████████████████████████████████████████████████████████████████████████████████████████████████| 499/499 [00:18<00:00, 26.71it/s]\n",
      "04:26:46 - WARNING: Clipping input data to the valid range for imshow with RGB data ([0..1] for floats or [0..255] for integers).\n",
      "04:26:46 - INFO: Starting epoch 7:\n",
      "100%|█████████████████████████████████████████████████████████████████████████████████████████████| 590/590 [00:46<00:00, 12.57it/s, loss_func=0.00304]\n",
      "04:27:33 - INFO: Starting epoch 8:\n",
      "100%|████████████████████████████████████████████████████████████████████████████████████████████| 590/590 [01:15<00:00,  7.78it/s, loss_func=0.000264]\n",
      "04:28:49 - INFO: Starting epoch 9:\n",
      "100%|██████████████████████████████████████████████████████████████████████████████████████████████| 590/590 [01:23<00:00,  7.05it/s, loss_func=0.0075]\n",
      "04:30:13 - INFO: Starting epoch 10:\n",
      "100%|██████████████████████████████████████████████████████████████████████████████████████████████| 590/590 [01:22<00:00,  7.17it/s, loss_func=0.0124]\n",
      "04:31:35 - INFO: Starting epoch 11:\n",
      "100%|█████████████████████████████████████████████████████████████████████████████████████████████| 590/590 [01:25<00:00,  6.90it/s, loss_func=0.00468]\n",
      "100%|████████████████████████████████████████████████████████████████████████████████████████████████████████████████████| 1/1 [00:00<00:00,  3.54it/s]\n",
      "04:33:01 - INFO: Sampling 6 new images....\n",
      "100%|████████████████████████████████████████████████████████████████████████████████████████████████████████████████| 499/499 [00:20<00:00, 23.93it/s]\n",
      "04:33:22 - WARNING: Clipping input data to the valid range for imshow with RGB data ([0..1] for floats or [0..255] for integers).\n",
      "04:33:22 - INFO: Starting epoch 12:\n",
      "100%|█████████████████████████████████████████████████████████████████████████████████████████████| 590/590 [01:22<00:00,  7.13it/s, loss_func=0.00598]\n",
      "04:34:45 - INFO: Starting epoch 13:\n",
      "100%|█████████████████████████████████████████████████████████████████████████████████████████████| 590/590 [01:00<00:00,  9.81it/s, loss_func=0.00148]\n",
      "04:35:45 - INFO: Starting epoch 14:\n",
      "100%|█████████████████████████████████████████████████████████████████████████████████████████████| 590/590 [00:45<00:00, 12.97it/s, loss_func=0.00155]\n",
      "04:36:31 - INFO: Starting epoch 15:\n",
      "100%|██████████████████████████████████████████████████████████████████████████████████████████████| 590/590 [00:46<00:00, 12.57it/s, loss_func=0.0115]\n",
      "04:37:18 - INFO: Starting epoch 16:\n",
      "100%|█████████████████████████████████████████████████████████████████████████████████████████████| 590/590 [00:46<00:00, 12.71it/s, loss_func=0.00639]\n",
      "100%|████████████████████████████████████████████████████████████████████████████████████████████████████████████████████| 1/1 [00:00<00:00,  2.96it/s]\n",
      "04:38:04 - INFO: Sampling 6 new images....\n",
      "100%|████████████████████████████████████████████████████████████████████████████████████████████████████████████████| 499/499 [00:19<00:00, 24.96it/s]\n",
      "04:38:24 - WARNING: Clipping input data to the valid range for imshow with RGB data ([0..1] for floats or [0..255] for integers).\n",
      "04:38:25 - INFO: Starting epoch 17:\n",
      "100%|█████████████████████████████████████████████████████████████████████████████████████████████| 590/590 [00:46<00:00, 12.71it/s, loss_func=0.00215]\n",
      "04:39:11 - INFO: Starting epoch 18:\n",
      "100%|██████████████████████████████████████████████████████████████████████████████████████████████| 590/590 [00:46<00:00, 12.69it/s, loss_func=0.0039]\n",
      "04:39:58 - INFO: Starting epoch 19:\n",
      "100%|██████████████████████████████████████████████████████████████████████████████████████████████| 590/590 [00:50<00:00, 11.61it/s, loss_func=0.0261]\n",
      "04:40:49 - INFO: Starting epoch 20:\n",
      "100%|█████████████████████████████████████████████████████████████████████████████████████████████| 590/590 [00:45<00:00, 12.92it/s, loss_func=0.00206]\n",
      "04:41:34 - INFO: Starting epoch 21:\n",
      "100%|█████████████████████████████████████████████████████████████████████████████████████████████| 590/590 [00:44<00:00, 13.21it/s, loss_func=6.83e-5]\n",
      "100%|████████████████████████████████████████████████████████████████████████████████████████████████████████████████████| 1/1 [00:00<00:00,  3.08it/s]\n",
      "04:42:19 - INFO: Sampling 6 new images....\n",
      "100%|████████████████████████████████████████████████████████████████████████████████████████████████████████████████| 499/499 [00:17<00:00, 28.03it/s]\n",
      "04:42:37 - WARNING: Clipping input data to the valid range for imshow with RGB data ([0..1] for floats or [0..255] for integers).\n",
      "04:42:37 - INFO: Starting epoch 22:\n",
      "100%|█████████████████████████████████████████████████████████████████████████████████████████████| 590/590 [00:42<00:00, 13.91it/s, loss_func=0.00176]\n",
      "04:43:20 - INFO: Starting epoch 23:\n",
      "100%|█████████████████████████████████████████████████████████████████████████████████████████████| 590/590 [00:42<00:00, 13.99it/s, loss_func=0.00881]\n",
      "04:44:02 - INFO: Starting epoch 24:\n",
      "100%|████████████████████████████████████████████████████████████████████████████████████████████| 590/590 [00:44<00:00, 13.36it/s, loss_func=0.000176]\n",
      "04:44:46 - INFO: Starting epoch 25:\n",
      "100%|█████████████████████████████████████████████████████████████████████████████████████████████| 590/590 [00:41<00:00, 14.07it/s, loss_func=0.00125]\n",
      "04:45:28 - INFO: Starting epoch 26:\n",
      "100%|██████████████████████████████████████████████████████████████████████████████████████████████| 590/590 [00:42<00:00, 13.84it/s, loss_func=0.0248]\n",
      "100%|████████████████████████████████████████████████████████████████████████████████████████████████████████████████████| 1/1 [00:00<00:00,  2.86it/s]\n",
      "04:46:11 - INFO: Sampling 6 new images....\n",
      "100%|████████████████████████████████████████████████████████████████████████████████████████████████████████████████| 499/499 [00:18<00:00, 27.25it/s]\n",
      "04:46:30 - WARNING: Clipping input data to the valid range for imshow with RGB data ([0..1] for floats or [0..255] for integers).\n",
      "04:46:30 - INFO: Starting epoch 27:\n",
      "100%|██████████████████████████████████████████████████████████████████████████████████████████████| 590/590 [00:42<00:00, 13.77it/s, loss_func=0.0792]\n",
      "04:47:13 - INFO: Starting epoch 28:\n",
      "100%|████████████████████████████████████████████████████████████████████████████████████████████| 590/590 [00:43<00:00, 13.46it/s, loss_func=0.000727]\n",
      "04:47:57 - INFO: Starting epoch 29:\n",
      "100%|█████████████████████████████████████████████████████████████████████████████████████████████| 590/590 [00:45<00:00, 13.03it/s, loss_func=0.00253]\n",
      "04:48:42 - INFO: Starting epoch 30:\n",
      "100%|██████████████████████████████████████████████████████████████████████████████████████████████| 590/590 [00:42<00:00, 14.00it/s, loss_func=0.0151]\n"
     ]
    }
   ],
   "source": [
    "train(dataloader, \n",
    "      valdataloader,\n",
    "      device=device, \n",
    "      T=500, \n",
    "      img_size=IM_SIZE, \n",
    "      channels=64, \n",
    "      batch_size=BATCH_SIZE, \n",
    "      pretrained=False, \n",
    "      metric='MSE',\n",
    "      experiment_name='raw_training_mse_32', \n",
    "      lr=0.0001,\n",
    "      #max_steps=50\n",
    "      )"
   ]
  },
  {
   "cell_type": "code",
   "execution_count": 60,
   "id": "fbbe034c-c374-4bc9-ad30-3165ec483d43",
   "metadata": {},
   "outputs": [
    {
     "name": "stdout",
     "output_type": "stream",
     "text": [
      "Model will run on cuda\n"
     ]
    }
   ],
   "source": [
    "dataloader, valdataloader  = prepare_loaders()"
   ]
  },
  {
   "cell_type": "code",
   "execution_count": 84,
   "id": "bb399a79-0106-49c2-bcfe-c6e21446fcd8",
   "metadata": {},
   "outputs": [
    {
     "name": "stdout",
     "output_type": "stream",
     "text": [
      "Setting up [LPIPS] perceptual loss: trunk [alex], v[0.1], spatial [off]\n"
     ]
    },
    {
     "name": "stderr",
     "output_type": "stream",
     "text": [
      "08:53:55 - INFO: Starting epoch 1:\n"
     ]
    },
    {
     "name": "stdout",
     "output_type": "stream",
     "text": [
      "Loading model from: /home/jakwisn/.pyenv/versions/3.11.4/lib/python3.11/site-packages/lpips/weights/v0.1/alex.pth\n"
     ]
    },
    {
     "name": "stderr",
     "output_type": "stream",
     "text": [
      "100%|█████████████████████████████████████████████████████████████████████████████████████████████| 590/590 [02:02<00:00,  4.82it/s, loss_func=0.00174]\n",
      "100%|████████████████████████████████████████████████████████████████████████████████████████████████████████████████████| 1/1 [00:00<00:00,  3.46it/s]\n",
      "08:55:58 - INFO: Sampling 6 new images....\n",
      "100%|████████████████████████████████████████████████████████████████████████████████████████████████████████████████| 499/499 [00:17<00:00, 28.62it/s]\n",
      "08:56:16 - WARNING: Clipping input data to the valid range for imshow with RGB data ([0..1] for floats or [0..255] for integers).\n",
      "08:56:16 - INFO: Starting epoch 2:\n",
      "100%|█████████████████████████████████████████████████████████████████████████████████████████████| 590/590 [02:01<00:00,  4.85it/s, loss_func=0.00448]\n",
      "08:58:18 - INFO: Starting epoch 3:\n",
      "100%|█████████████████████████████████████████████████████████████████████████████████████████████| 590/590 [02:01<00:00,  4.85it/s, loss_func=0.00357]\n",
      "09:00:19 - INFO: Starting epoch 4:\n",
      "100%|█████████████████████████████████████████████████████████████████████████████████████████████| 590/590 [02:01<00:00,  4.85it/s, loss_func=0.00101]\n",
      "09:02:21 - INFO: Starting epoch 5:\n",
      "100%|█████████████████████████████████████████████████████████████████████████████████████████████| 590/590 [02:01<00:00,  4.86it/s, loss_func=0.00188]\n",
      "09:04:23 - INFO: Starting epoch 6:\n",
      "100%|███████████████████████████████████████████████████████████████████████████████████████████████████| 590/590 [02:01<00:00,  4.84it/s, loss_func=0]\n",
      "100%|████████████████████████████████████████████████████████████████████████████████████████████████████████████████████| 1/1 [00:00<00:00,  3.56it/s]\n",
      "09:06:25 - INFO: Sampling 6 new images....\n",
      "100%|████████████████████████████████████████████████████████████████████████████████████████████████████████████████| 499/499 [00:17<00:00, 29.01it/s]\n",
      "09:06:42 - WARNING: Clipping input data to the valid range for imshow with RGB data ([0..1] for floats or [0..255] for integers).\n",
      "09:06:42 - INFO: Starting epoch 7:\n",
      "100%|█████████████████████████████████████████████████████████████████████████████████████████████| 590/590 [02:01<00:00,  4.84it/s, loss_func=0.00239]\n",
      "09:08:44 - INFO: Starting epoch 8:\n",
      "100%|█████████████████████████████████████████████████████████████████████████████████████████████| 590/590 [02:02<00:00,  4.82it/s, loss_func=0.00192]\n",
      "09:10:46 - INFO: Starting epoch 9:\n",
      "100%|█████████████████████████████████████████████████████████████████████████████████████████████| 590/590 [02:01<00:00,  4.85it/s, loss_func=0.00422]\n",
      "09:12:48 - INFO: Starting epoch 10:\n",
      "100%|█████████████████████████████████████████████████████████████████████████████████████████████| 590/590 [02:01<00:00,  4.85it/s, loss_func=0.00494]\n",
      "09:14:50 - INFO: Starting epoch 11:\n",
      "100%|█████████████████████████████████████████████████████████████████████████████████████████████| 590/590 [02:01<00:00,  4.84it/s, loss_func=0.00181]\n",
      "100%|████████████████████████████████████████████████████████████████████████████████████████████████████████████████████| 1/1 [00:00<00:00,  3.43it/s]\n",
      "09:16:52 - INFO: Sampling 6 new images....\n",
      "100%|████████████████████████████████████████████████████████████████████████████████████████████████████████████████| 499/499 [00:17<00:00, 28.77it/s]\n",
      "09:17:09 - WARNING: Clipping input data to the valid range for imshow with RGB data ([0..1] for floats or [0..255] for integers).\n",
      "09:17:09 - INFO: Starting epoch 12:\n",
      "100%|█████████████████████████████████████████████████████████████████████████████████████████████| 590/590 [02:02<00:00,  4.83it/s, loss_func=0.00204]\n",
      "09:19:11 - INFO: Starting epoch 13:\n",
      "100%|█████████████████████████████████████████████████████████████████████████████████████████████| 590/590 [02:01<00:00,  4.86it/s, loss_func=0.00882]\n",
      "09:21:13 - INFO: Starting epoch 14:\n",
      "100%|█████████████████████████████████████████████████████████████████████████████████████████████| 590/590 [02:01<00:00,  4.85it/s, loss_func=0.00325]\n",
      "09:23:15 - INFO: Starting epoch 15:\n",
      "100%|██████████████████████████████████████████████████████████████████████████████████████████████| 590/590 [02:02<00:00,  4.83it/s, loss_func=0.0027]\n",
      "09:25:17 - INFO: Starting epoch 16:\n",
      "100%|████████████████████████████████████████████████████████████████████████████████████████████| 590/590 [02:01<00:00,  4.85it/s, loss_func=0.000757]\n",
      "100%|████████████████████████████████████████████████████████████████████████████████████████████████████████████████████| 1/1 [00:00<00:00,  3.11it/s]\n",
      "09:27:19 - INFO: Sampling 6 new images....\n",
      "100%|████████████████████████████████████████████████████████████████████████████████████████████████████████████████| 499/499 [00:17<00:00, 28.22it/s]\n",
      "09:27:37 - WARNING: Clipping input data to the valid range for imshow with RGB data ([0..1] for floats or [0..255] for integers).\n",
      "09:27:37 - INFO: Starting epoch 17:\n",
      "100%|█████████████████████████████████████████████████████████████████████████████████████████████| 590/590 [02:02<00:00,  4.82it/s, loss_func=0.00738]\n",
      "09:29:39 - INFO: Starting epoch 18:\n",
      "100%|█████████████████████████████████████████████████████████████████████████████████████████████| 590/590 [02:02<00:00,  4.82it/s, loss_func=0.00157]\n",
      "09:31:42 - INFO: Starting epoch 19:\n",
      "100%|█████████████████████████████████████████████████████████████████████████████████████████████| 590/590 [02:02<00:00,  4.80it/s, loss_func=0.00342]\n",
      "09:33:45 - INFO: Starting epoch 20:\n",
      "100%|█████████████████████████████████████████████████████████████████████████████████████████████| 590/590 [02:02<00:00,  4.81it/s, loss_func=0.00427]\n",
      "09:35:47 - INFO: Starting epoch 21:\n",
      "100%|█████████████████████████████████████████████████████████████████████████████████████████████| 590/590 [02:02<00:00,  4.81it/s, loss_func=0.00284]\n",
      "100%|████████████████████████████████████████████████████████████████████████████████████████████████████████████████████| 1/1 [00:00<00:00,  3.35it/s]\n",
      "09:37:50 - INFO: Sampling 6 new images....\n",
      "100%|████████████████████████████████████████████████████████████████████████████████████████████████████████████████| 499/499 [00:17<00:00, 28.51it/s]\n",
      "09:38:08 - WARNING: Clipping input data to the valid range for imshow with RGB data ([0..1] for floats or [0..255] for integers).\n",
      "09:38:08 - INFO: Starting epoch 22:\n",
      "100%|█████████████████████████████████████████████████████████████████████████████████████████████| 590/590 [02:02<00:00,  4.82it/s, loss_func=0.00138]\n",
      "09:40:10 - INFO: Starting epoch 23:\n",
      "100%|█████████████████████████████████████████████████████████████████████████████████████████████| 590/590 [02:02<00:00,  4.82it/s, loss_func=0.00125]\n",
      "09:42:13 - INFO: Starting epoch 24:\n",
      "100%|█████████████████████████████████████████████████████████████████████████████████████████████| 590/590 [02:02<00:00,  4.82it/s, loss_func=0.00114]\n",
      "09:44:15 - INFO: Starting epoch 25:\n",
      "100%|█████████████████████████████████████████████████████████████████████████████████████████████| 590/590 [02:02<00:00,  4.83it/s, loss_func=0.00387]\n",
      "09:46:17 - INFO: Starting epoch 26:\n",
      "100%|█████████████████████████████████████████████████████████████████████████████████████████████| 590/590 [02:02<00:00,  4.80it/s, loss_func=0.00906]\n",
      "100%|████████████████████████████████████████████████████████████████████████████████████████████████████████████████████| 1/1 [00:00<00:00,  3.45it/s]\n",
      "09:48:21 - INFO: Sampling 6 new images....\n",
      "100%|████████████████████████████████████████████████████████████████████████████████████████████████████████████████| 499/499 [00:17<00:00, 28.21it/s]\n",
      "09:48:38 - WARNING: Clipping input data to the valid range for imshow with RGB data ([0..1] for floats or [0..255] for integers).\n",
      "09:48:39 - INFO: Starting epoch 27:\n",
      "100%|█████████████████████████████████████████████████████████████████████████████████████████████| 590/590 [02:02<00:00,  4.82it/s, loss_func=0.00185]\n",
      "09:50:41 - INFO: Starting epoch 28:\n",
      "100%|█████████████████████████████████████████████████████████████████████████████████████████████| 590/590 [02:03<00:00,  4.78it/s, loss_func=0.00306]\n",
      "09:52:44 - INFO: Starting epoch 29:\n",
      "100%|████████████████████████████████████████████████████████████████████████████████████████████| 590/590 [02:03<00:00,  4.79it/s, loss_func=0.000574]\n",
      "09:54:48 - INFO: Starting epoch 30:\n",
      "100%|█████████████████████████████████████████████████████████████████████████████████████████████| 590/590 [02:02<00:00,  4.83it/s, loss_func=0.00328]\n"
     ]
    }
   ],
   "source": [
    "train(dataloader, \n",
    "      valdataloader,\n",
    "      device=device, \n",
    "      T=500, \n",
    "      img_size=IM_SIZE, \n",
    "      channels=64, \n",
    "      batch_size=BATCH_SIZE, \n",
    "      pretrained=False, \n",
    "      metric='LPIPS',\n",
    "      experiment_name='raw_lpips_32_2', \n",
    "      lr=0.0001,\n",
    "      )"
   ]
  },
  {
   "cell_type": "code",
   "execution_count": 83,
   "id": "25b59bc2-3821-431a-a5d0-6d79ea8a9eaf",
   "metadata": {},
   "outputs": [
    {
     "name": "stdout",
     "output_type": "stream",
     "text": [
      "Setting up [LPIPS] perceptual loss: trunk [alex], v[0.1], spatial [off]\n"
     ]
    },
    {
     "name": "stderr",
     "output_type": "stream",
     "text": [
      "07:51:01 - INFO: Starting epoch 1:\n"
     ]
    },
    {
     "name": "stdout",
     "output_type": "stream",
     "text": [
      "Loading model from: /home/jakwisn/.pyenv/versions/3.11.4/lib/python3.11/site-packages/lpips/weights/v0.1/alex.pth\n"
     ]
    },
    {
     "name": "stderr",
     "output_type": "stream",
     "text": [
      "100%|█████████████████████████████████████████████████████████████████████████████████████████████| 590/590 [02:01<00:00,  4.85it/s, loss_func=0.00163]\n",
      "100%|████████████████████████████████████████████████████████████████████████████████████████████████████████████████████| 1/1 [00:00<00:00,  3.21it/s]\n",
      "07:53:03 - INFO: Sampling 6 new images....\n",
      "100%|████████████████████████████████████████████████████████████████████████████████████████████████████████████████| 499/499 [00:17<00:00, 29.31it/s]\n",
      "07:53:20 - WARNING: Clipping input data to the valid range for imshow with RGB data ([0..1] for floats or [0..255] for integers).\n",
      "07:53:20 - INFO: Starting epoch 2:\n",
      "100%|█████████████████████████████████████████████████████████████████████████████████████████████| 590/590 [02:01<00:00,  4.85it/s, loss_func=0.00428]\n",
      "07:55:22 - INFO: Starting epoch 3:\n",
      "100%|█████████████████████████████████████████████████████████████████████████████████████████████| 590/590 [02:01<00:00,  4.86it/s, loss_func=0.00109]\n",
      "07:57:23 - INFO: Starting epoch 4:\n",
      "100%|████████████████████████████████████████████████████████████████████████████████████████████| 590/590 [02:02<00:00,  4.82it/s, loss_func=0.000772]\n",
      "07:59:26 - INFO: Starting epoch 5:\n",
      "100%|█████████████████████████████████████████████████████████████████████████████████████████████| 590/590 [02:01<00:00,  4.85it/s, loss_func=0.00223]\n",
      "08:01:27 - INFO: Starting epoch 6:\n",
      "100%|█████████████████████████████████████████████████████████████████████████████████████████████| 590/590 [02:01<00:00,  4.86it/s, loss_func=0.00409]\n",
      "100%|████████████████████████████████████████████████████████████████████████████████████████████████████████████████████| 1/1 [00:00<00:00,  3.65it/s]\n",
      "08:03:29 - INFO: Sampling 6 new images....\n",
      "100%|████████████████████████████████████████████████████████████████████████████████████████████████████████████████| 499/499 [00:17<00:00, 29.27it/s]\n",
      "08:03:46 - WARNING: Clipping input data to the valid range for imshow with RGB data ([0..1] for floats or [0..255] for integers).\n",
      "08:03:46 - INFO: Starting epoch 7:\n",
      "100%|██████████████████████████████████████████████████████████████████████████████████████████████| 590/590 [02:03<00:00,  4.79it/s, loss_func=0.0111]\n",
      "08:05:50 - INFO: Starting epoch 8:\n",
      "100%|█████████████████████████████████████████████████████████████████████████████████████████████| 590/590 [02:01<00:00,  4.85it/s, loss_func=0.00835]\n",
      "08:07:51 - INFO: Starting epoch 9:\n",
      "100%|█████████████████████████████████████████████████████████████████████████████████████████████| 590/590 [02:01<00:00,  4.84it/s, loss_func=0.00114]\n",
      "08:09:53 - INFO: Starting epoch 10:\n",
      "100%|█████████████████████████████████████████████████████████████████████████████████████████████| 590/590 [02:01<00:00,  4.84it/s, loss_func=0.00711]\n",
      "08:11:55 - INFO: Starting epoch 11:\n",
      "100%|████████████████████████████████████████████████████████████████████████████████████████████| 590/590 [02:01<00:00,  4.85it/s, loss_func=0.000337]\n",
      "100%|████████████████████████████████████████████████████████████████████████████████████████████████████████████████████| 1/1 [00:00<00:00,  3.42it/s]\n",
      "08:13:57 - INFO: Sampling 6 new images....\n",
      "100%|████████████████████████████████████████████████████████████████████████████████████████████████████████████████| 499/499 [00:19<00:00, 24.98it/s]\n",
      "08:14:17 - WARNING: Clipping input data to the valid range for imshow with RGB data ([0..1] for floats or [0..255] for integers).\n",
      "08:14:17 - INFO: Starting epoch 12:\n",
      "100%|█████████████████████████████████████████████████████████████████████████████████████████████| 590/590 [02:01<00:00,  4.85it/s, loss_func=0.00494]\n",
      "08:16:19 - INFO: Starting epoch 13:\n",
      "100%|██████████████████████████████████████████████████████████████████████████████████████████████| 590/590 [02:02<00:00,  4.82it/s, loss_func=0.0018]\n",
      "08:18:21 - INFO: Starting epoch 14:\n",
      "100%|█████████████████████████████████████████████████████████████████████████████████████████████| 590/590 [02:02<00:00,  4.83it/s, loss_func=0.00103]\n",
      "08:20:23 - INFO: Starting epoch 15:\n",
      "100%|█████████████████████████████████████████████████████████████████████████████████████████████| 590/590 [02:02<00:00,  4.83it/s, loss_func=0.00209]\n",
      "08:22:26 - INFO: Starting epoch 16:\n",
      "100%|█████████████████████████████████████████████████████████████████████████████████████████████| 590/590 [02:02<00:00,  4.82it/s, loss_func=0.00108]\n",
      "100%|████████████████████████████████████████████████████████████████████████████████████████████████████████████████████| 1/1 [00:00<00:00,  3.42it/s]\n",
      "08:24:28 - INFO: Sampling 6 new images....\n",
      "100%|████████████████████████████████████████████████████████████████████████████████████████████████████████████████| 499/499 [00:17<00:00, 28.60it/s]\n",
      "08:24:46 - WARNING: Clipping input data to the valid range for imshow with RGB data ([0..1] for floats or [0..255] for integers).\n",
      "08:24:46 - INFO: Starting epoch 17:\n",
      "100%|████████████████████████████████████████████████████████████████████████████████████████████| 590/590 [02:02<00:00,  4.83it/s, loss_func=0.000435]\n",
      "08:26:48 - INFO: Starting epoch 18:\n",
      "100%|█████████████████████████████████████████████████████████████████████████████████████████████| 590/590 [02:02<00:00,  4.83it/s, loss_func=0.00252]\n",
      "08:28:51 - INFO: Starting epoch 19:\n",
      "100%|████████████████████████████████████████████████████████████████████████████████████████████| 590/590 [02:02<00:00,  4.81it/s, loss_func=0.000974]\n",
      "08:30:53 - INFO: Starting epoch 20:\n",
      "100%|█████████████████████████████████████████████████████████████████████████████████████████████| 590/590 [02:02<00:00,  4.82it/s, loss_func=0.00277]\n",
      "08:32:56 - INFO: Starting epoch 21:\n",
      "100%|█████████████████████████████████████████████████████████████████████████████████████████████| 590/590 [02:02<00:00,  4.82it/s, loss_func=0.00128]\n",
      "100%|████████████████████████████████████████████████████████████████████████████████████████████████████████████████████| 1/1 [00:00<00:00,  3.64it/s]\n",
      "08:34:58 - INFO: Sampling 6 new images....\n",
      "100%|████████████████████████████████████████████████████████████████████████████████████████████████████████████████| 499/499 [00:17<00:00, 28.31it/s]\n",
      "08:35:16 - WARNING: Clipping input data to the valid range for imshow with RGB data ([0..1] for floats or [0..255] for integers).\n",
      "08:35:16 - INFO: Starting epoch 22:\n",
      "100%|█████████████████████████████████████████████████████████████████████████████████████████████| 590/590 [02:02<00:00,  4.82it/s, loss_func=0.00105]\n",
      "08:37:19 - INFO: Starting epoch 23:\n",
      "100%|████████████████████████████████████████████████████████████████████████████████████████████| 590/590 [02:02<00:00,  4.83it/s, loss_func=0.000166]\n",
      "08:39:21 - INFO: Starting epoch 24:\n",
      "100%|████████████████████████████████████████████████████████████████████████████████████████████| 590/590 [02:02<00:00,  4.83it/s, loss_func=0.000976]\n",
      "08:41:23 - INFO: Starting epoch 25:\n",
      "100%|█████████████████████████████████████████████████████████████████████████████████████████████| 590/590 [02:02<00:00,  4.80it/s, loss_func=0.00452]\n",
      "08:43:26 - INFO: Starting epoch 26:\n",
      "100%|████████████████████████████████████████████████████████████████████████████████████████████| 590/590 [02:02<00:00,  4.83it/s, loss_func=0.000197]\n",
      "100%|████████████████████████████████████████████████████████████████████████████████████████████████████████████████████| 1/1 [00:00<00:00,  3.61it/s]\n",
      "08:45:29 - INFO: Sampling 6 new images....\n",
      "100%|████████████████████████████████████████████████████████████████████████████████████████████████████████████████| 499/499 [00:17<00:00, 28.84it/s]\n",
      "08:45:46 - WARNING: Clipping input data to the valid range for imshow with RGB data ([0..1] for floats or [0..255] for integers).\n",
      "08:45:46 - INFO: Starting epoch 27:\n",
      "100%|███████████████████████████████████████████████████████████████████████████████████████████████████| 590/590 [02:01<00:00,  4.84it/s, loss_func=0]\n",
      "08:47:48 - INFO: Starting epoch 28:\n",
      "100%|██████████████████████████████████████████████████████████████████████████████████████████████| 590/590 [02:02<00:00,  4.83it/s, loss_func=0.0023]\n",
      "08:49:50 - INFO: Starting epoch 29:\n",
      "100%|█████████████████████████████████████████████████████████████████████████████████████████████| 590/590 [02:02<00:00,  4.83it/s, loss_func=0.00195]\n",
      "08:51:53 - INFO: Starting epoch 30:\n",
      "100%|████████████████████████████████████████████████████████████████████████████████████████████| 590/590 [02:01<00:00,  4.84it/s, loss_func=0.000531]\n"
     ]
    }
   ],
   "source": [
    "train(dataloader, \n",
    "      valdataloader,\n",
    "      device=device, \n",
    "      T=500, \n",
    "      img_size=IM_SIZE, \n",
    "      channels=64, \n",
    "      batch_size=BATCH_SIZE, \n",
    "      pretrained=True, \n",
    "      metric='LPIPS',\n",
    "      experiment_name='pretrained_lpips_32_2', \n",
    "      lr=0.0001,\n",
    "      )"
   ]
  },
  {
   "cell_type": "code",
   "execution_count": 23,
   "id": "e971ea2f-f770-440d-b7fa-6bec6c56eaa9",
   "metadata": {},
   "outputs": [],
   "source": [
    "\n",
    "BATCH_SIZE=4\n",
    "RESIZE_SIZE=64\n",
    "IM_SIZE=64\n",
    "\n",
    "\n",
    "transform = transforms.Compose([\n",
    "    transforms.ToTensor(),                # from [0,255] to range [0.0,1.0]\n",
    "    v2.Resize(size=(RESIZE_SIZE, RESIZE_SIZE)),\n",
    "    #v2.RandomCrop(size=(IM_SIZE, IM_SIZE))\n",
    "    ])"
   ]
  },
  {
   "cell_type": "code",
   "execution_count": 17,
   "id": "900fec40-5fab-4e48-8247-4920a1f04c16",
   "metadata": {},
   "outputs": [],
   "source": [
    "def prepare_loaders():\n",
    "        \n",
    "    device = torch.device('cuda' if torch.cuda.is_available() else None)  \n",
    "    print(f\"Model will run on {device}\")\n",
    "    \n",
    "    dataloader = DataLoader(train_dataset,\n",
    "                            batch_size=BATCH_SIZE,\n",
    "                            shuffle=True,\n",
    "                            num_workers=6, \n",
    "                            #persistent_workers=True,\n",
    "                            pin_memory=True,\n",
    "                           )\n",
    "    \n",
    "    valdataloader = DataLoader(val_dataset,\n",
    "                               batch_size=BATCH_SIZE,\n",
    "                               shuffle=False,\n",
    "                               #persistent_workers=True,\n",
    "                               num_workers=6,\n",
    "                               pin_memory=True)\n",
    "\n",
    "    return dataloader, valdataloader "
   ]
  },
  {
   "cell_type": "code",
   "execution_count": 18,
   "id": "0314743f-24bd-46e0-9781-2c8f99018a52",
   "metadata": {},
   "outputs": [],
   "source": [
    "val_images = [] \n",
    "for x in [0,1,3,5]:\n",
    "    val_images.append(glob.glob('data/validation/GT_IMAGES/*.jpg')[x])\n",
    "\n",
    "train_dataset = CorrectionImageDataset(input_images, train=True, transform=transform)\n",
    "val_dataset = CorrectionImageDataset(val_images, train=False, transform=transform)"
   ]
  },
  {
   "cell_type": "code",
   "execution_count": 11,
   "id": "3ee2b7be-7b1c-463a-87fd-b2346d1412ad",
   "metadata": {},
   "outputs": [
    {
     "name": "stdout",
     "output_type": "stream",
     "text": [
      "Model will run on cuda\n"
     ]
    }
   ],
   "source": [
    "dataloader, valdataloader  = prepare_loaders()"
   ]
  },
  {
   "cell_type": "code",
   "execution_count": 46,
   "id": "7650927f-45e6-4165-a960-f27adf372c80",
   "metadata": {},
   "outputs": [
    {
     "data": {
      "text/plain": [
       "<matplotlib.image.AxesImage at 0x7fd4b04631d0>"
      ]
     },
     "execution_count": 46,
     "metadata": {},
     "output_type": "execute_result"
    },
    {
     "data": {
      "image/png": "[encoded data removed]",
      "text/plain": [
       "<Figure size 640x480 with 3 Axes>"
      ]
     },
     "metadata": {},
     "output_type": "display_data"
    }
   ],
   "source": [
    "im, mask = val_dataset[0]\n",
    "\n",
    "fig, axs = plt.subplots(1,3)\n",
    "axs[0].imshow(hist_fix(im).permute((1,2,0)))\n",
    "axs[1].imshow(mask) # Unknown region to generate\n",
    "axs[2].imshow(~mask) # Known region"
   ]
  },
  {
   "cell_type": "code",
   "execution_count": 47,
   "id": "50a7cdd3-86f3-4124-9674-7836bb99c822",
   "metadata": {},
   "outputs": [
    {
     "name": "stderr",
     "output_type": "stream",
     "text": [
      "11:27:07 - INFO: Starting epoch 1:\n",
      "100%|███████████████████████████████████████████████████████████████████████████████████████████████| 75/75 [03:25<00:00,  2.74s/it, loss_func=0.00606]\n",
      "100%|████████████████████████████████████████████████████████████████████████████████████████████████████████████████████| 1/1 [00:00<00:00,  3.20it/s]\n",
      "11:30:33 - INFO: Sampling 4 new images....\n",
      "100%|████████████████████████████████████████████████████████████████████████████████████████████████████████████████| 499/499 [15:51<00:00,  1.91s/it]\n",
      "11:46:25 - WARNING: Clipping input data to the valid range for imshow with RGB data ([0..1] for floats or [0..255] for integers).\n",
      "11:46:25 - INFO: Starting epoch 2:\n",
      "100%|███████████████████████████████████████████████████████████████████████████████████████████████| 75/75 [03:24<00:00,  2.73s/it, loss_func=0.00791]\n",
      "11:49:50 - INFO: Starting epoch 3:\n",
      "100%|███████████████████████████████████████████████████████████████████████████████████████████████| 75/75 [03:24<00:00,  2.73s/it, loss_func=0.00121]\n",
      "11:53:14 - INFO: Starting epoch 4:\n",
      "100%|██████████████████████████████████████████████████████████████████████████████████████████████| 75/75 [03:24<00:00,  2.72s/it, loss_func=0.000356]\n",
      "11:56:39 - INFO: Starting epoch 5:\n",
      "100%|████████████████████████████████████████████████████████████████████████████████████████████████| 75/75 [03:37<00:00,  2.90s/it, loss_func=0.0104]\n",
      "12:00:16 - INFO: Starting epoch 6:\n",
      "100%|████████████████████████████████████████████████████████████████████████████████████████████████| 75/75 [03:53<00:00,  3.11s/it, loss_func=0.0199]\n",
      "100%|████████████████████████████████████████████████████████████████████████████████████████████████████████████████████| 1/1 [00:00<00:00,  3.55it/s]\n",
      "12:04:10 - INFO: Sampling 4 new images....\n",
      "100%|████████████████████████████████████████████████████████████████████████████████████████████████████████████████| 499/499 [18:06<00:00,  2.18s/it]\n",
      "12:22:17 - WARNING: Clipping input data to the valid range for imshow with RGB data ([0..1] for floats or [0..255] for integers).\n",
      "12:22:18 - INFO: Starting epoch 7:\n",
      "100%|███████████████████████████████████████████████████████████████████████████████████████████████| 75/75 [03:34<00:00,  2.86s/it, loss_func=0.00479]\n",
      "12:25:52 - INFO: Starting epoch 8:\n",
      "100%|███████████████████████████████████████████████████████████████████████████████████████████████| 75/75 [03:46<00:00,  3.02s/it, loss_func=0.00465]\n",
      "12:29:39 - INFO: Starting epoch 9:\n",
      "100%|███████████████████████████████████████████████████████████████████████████████████████████████| 75/75 [03:44<00:00,  3.00s/it, loss_func=0.00249]\n",
      "12:33:24 - INFO: Starting epoch 10:\n",
      "100%|████████████████████████████████████████████████████████████████████████████████████████████████| 75/75 [03:44<00:00,  3.00s/it, loss_func=0.0102]\n",
      "12:37:09 - INFO: Starting epoch 11:\n",
      "100%|██████████████████████████████████████████████████████████████████████████████████████████████| 75/75 [03:45<00:00,  3.00s/it, loss_func=0.000858]\n",
      "100%|████████████████████████████████████████████████████████████████████████████████████████████████████████████████████| 1/1 [00:00<00:00,  4.12it/s]\n",
      "12:40:54 - INFO: Sampling 4 new images....\n",
      "100%|████████████████████████████████████████████████████████████████████████████████████████████████████████████████| 499/499 [16:52<00:00,  2.03s/it]\n",
      "12:57:48 - WARNING: Clipping input data to the valid range for imshow with RGB data ([0..1] for floats or [0..255] for integers).\n",
      "12:57:48 - INFO: Starting epoch 12:\n",
      "100%|███████████████████████████████████████████████████████████████████████████████████████████████| 75/75 [03:25<00:00,  2.74s/it, loss_func=0.00689]\n",
      "01:01:14 - INFO: Starting epoch 13:\n",
      "100%|██████████████████████████████████████████████████████████████████████████████████████████████| 75/75 [03:24<00:00,  2.72s/it, loss_func=0.000585]\n",
      "01:04:38 - INFO: Starting epoch 14:\n",
      "100%|███████████████████████████████████████████████████████████████████████████████████████████████| 75/75 [03:26<00:00,  2.75s/it, loss_func=0.00155]\n",
      "01:08:04 - INFO: Starting epoch 15:\n",
      "100%|███████████████████████████████████████████████████████████████████████████████████████████████| 75/75 [03:23<00:00,  2.72s/it, loss_func=0.00465]\n",
      "01:11:28 - INFO: Starting epoch 16:\n",
      "100%|███████████████████████████████████████████████████████████████████████████████████████████████| 75/75 [03:24<00:00,  2.72s/it, loss_func=0.00366]\n",
      "100%|████████████████████████████████████████████████████████████████████████████████████████████████████████████████████| 1/1 [00:00<00:00,  3.89it/s]\n",
      "01:14:53 - INFO: Sampling 4 new images....\n",
      "100%|████████████████████████████████████████████████████████████████████████████████████████████████████████████████| 499/499 [15:41<00:00,  1.89s/it]\n",
      "01:30:35 - WARNING: Clipping input data to the valid range for imshow with RGB data ([0..1] for floats or [0..255] for integers).\n",
      "01:30:36 - INFO: Starting epoch 17:\n",
      "100%|████████████████████████████████████████████████████████████████████████████████████████████████| 75/75 [03:23<00:00,  2.72s/it, loss_func=0.0182]\n",
      "01:34:00 - INFO: Starting epoch 18:\n",
      "100%|███████████████████████████████████████████████████████████████████████████████████████████████| 75/75 [03:23<00:00,  2.72s/it, loss_func=0.00132]\n",
      "01:37:23 - INFO: Starting epoch 19:\n",
      "100%|███████████████████████████████████████████████████████████████████████████████████████████████| 75/75 [03:23<00:00,  2.72s/it, loss_func=0.00415]\n",
      "01:40:47 - INFO: Starting epoch 20:\n",
      "100%|███████████████████████████████████████████████████████████████████████████████████████████████| 75/75 [03:24<00:00,  2.72s/it, loss_func=0.00123]\n",
      "01:44:11 - INFO: Starting epoch 21:\n",
      "100%|███████████████████████████████████████████████████████████████████████████████████████████████| 75/75 [03:23<00:00,  2.72s/it, loss_func=0.00153]\n",
      "100%|████████████████████████████████████████████████████████████████████████████████████████████████████████████████████| 1/1 [00:00<00:00,  4.07it/s]\n",
      "01:47:35 - INFO: Sampling 4 new images....\n",
      "100%|████████████████████████████████████████████████████████████████████████████████████████████████████████████████| 499/499 [15:57<00:00,  1.92s/it]\n",
      "02:03:34 - WARNING: Clipping input data to the valid range for imshow with RGB data ([0..1] for floats or [0..255] for integers).\n",
      "02:03:34 - INFO: Starting epoch 22:\n",
      "100%|██████████████████████████████████████████████████████████████████████████████████████████████| 75/75 [03:33<00:00,  2.84s/it, loss_func=0.000478]\n",
      "02:07:07 - INFO: Starting epoch 23:\n",
      "100%|████████████████████████████████████████████████████████████████████████████████████████████████| 75/75 [03:26<00:00,  2.75s/it, loss_func=0.0711]\n",
      "02:10:33 - INFO: Starting epoch 24:\n",
      "100%|███████████████████████████████████████████████████████████████████████████████████████████████| 75/75 [03:24<00:00,  2.72s/it, loss_func=0.00306]\n",
      "02:13:58 - INFO: Starting epoch 25:\n",
      "100%|███████████████████████████████████████████████████████████████████████████████████████████████| 75/75 [03:24<00:00,  2.73s/it, loss_func=0.00349]\n",
      "02:17:22 - INFO: Starting epoch 26:\n",
      "100%|███████████████████████████████████████████████████████████████████████████████████████████████| 75/75 [03:25<00:00,  2.74s/it, loss_func=0.00713]\n",
      "100%|████████████████████████████████████████████████████████████████████████████████████████████████████████████████████| 1/1 [00:00<00:00,  3.83it/s]\n",
      "02:20:48 - INFO: Sampling 4 new images....\n",
      "100%|████████████████████████████████████████████████████████████████████████████████████████████████████████████████| 499/499 [15:42<00:00,  1.89s/it]\n",
      "02:36:32 - WARNING: Clipping input data to the valid range for imshow with RGB data ([0..1] for floats or [0..255] for integers).\n",
      "02:36:32 - INFO: Starting epoch 27:\n",
      "100%|███████████████████████████████████████████████████████████████████████████████████████████████| 75/75 [03:25<00:00,  2.74s/it, loss_func=0.00197]\n",
      "02:39:57 - INFO: Starting epoch 28:\n",
      "100%|███████████████████████████████████████████████████████████████████████████████████████████████| 75/75 [03:46<00:00,  3.01s/it, loss_func=0.00174]\n",
      "02:43:43 - INFO: Starting epoch 29:\n",
      "100%|███████████████████████████████████████████████████████████████████████████████████████████████| 75/75 [03:45<00:00,  3.01s/it, loss_func=0.00947]\n",
      "02:47:29 - INFO: Starting epoch 30:\n",
      "100%|███████████████████████████████████████████████████████████████████████████████████████████████| 75/75 [03:45<00:00,  3.01s/it, loss_func=0.00138]\n"
     ]
    }
   ],
   "source": [
    "train(dataloader, \n",
    "      valdataloader,\n",
    "      device=device, \n",
    "      T=500, \n",
    "      img_size=IM_SIZE, \n",
    "      channels=64, \n",
    "      batch_size=BATCH_SIZE, \n",
    "      pretrained=True, \n",
    "      metric='MSE',\n",
    "      experiment_name='big_mse3', \n",
    "      lr=0.0001,\n",
    "      max_steps=75\n",
    "      )"
   ]
  },
  {
   "cell_type": "markdown",
   "id": "75cf5953-0ad4-4ab2-b3ba-256ba89c979f",
   "metadata": {},
   "source": [
    "# Inference"
   ]
  },
  {
   "cell_type": "code",
   "execution_count": 60,
   "id": "e6d1030e-52d3-4cda-95e9-3925e0910bf2",
   "metadata": {},
   "outputs": [],
   "source": [
    "test_dataset = CorrectionImageDataset(test_images, train=True, transform=transform)"
   ]
  },
  {
   "cell_type": "code",
   "execution_count": 61,
   "id": "481c0dc1-2419-4843-a5e2-4711117e1a87",
   "metadata": {},
   "outputs": [
    {
     "data": {
      "text/plain": [
       "<All keys matched successfully>"
      ]
     },
     "execution_count": 61,
     "metadata": {},
     "output_type": "execute_result"
    }
   ],
   "source": [
    "model = UNet(img_size=IM_SIZE, c_in=3, c_out=3, \n",
    "             time_dim=256,channels=64, device=device).to(device)\n",
    "diffusion = Diffusion(img_size=IM_SIZE, T=500, beta_start=1e-4, beta_end=0.02, device=device)\n",
    "ckpt = torch.load(\"models/pretrained_lpips_32/weights-30.pt\")\n",
    "model.load_state_dict(ckpt)"
   ]
  },
  {
   "cell_type": "code",
   "execution_count": 62,
   "id": "d430e017-d4a2-499d-a2ce-460c7a4b1ee7",
   "metadata": {},
   "outputs": [
    {
     "data": {
      "text/plain": [
       "<matplotlib.image.AxesImage at 0x7f2210417f90>"
      ]
     },
     "execution_count": 62,
     "metadata": {},
     "output_type": "execute_result"
    },
    {
     "data": {
      "image/png": "[encoded data removed]",
      "text/plain": [
       "<Figure size 640x480 with 1 Axes>"
      ]
     },
     "metadata": {},
     "output_type": "display_data"
    }
   ],
   "source": [
    "img_name = test_images[16] # 11 is fun, 16 is good, 23 nice , 24, 40, #135, 25, 79\n",
    "# bad examples: 29, 72\n",
    "image = Image.open(img_name)\n",
    "\n",
    "img = transform(image)\n",
    "\n",
    "# Get mask\n",
    "bright_transform = A.RandomBrightnessContrast(p=1, brightness_limit=(0.2,0.2), contrast_limit=(0.1,0.1)) # Contrast limit has to be set otherwise it fluctuates\n",
    "bright_image = torch.from_numpy(bright_transform(image=img.numpy())['image'])\n",
    "mask = torch.mean(bright_image,0) >= 255 / 255\n",
    "\n",
    "reconstructed_image = hist_fix(bright_image)\n",
    "\n",
    "plt.imshow(img.permute((1,2,0)))"
   ]
  },
  {
   "cell_type": "code",
   "execution_count": 63,
   "id": "aa9a6e0c-6513-4952-9c7c-468b526a1eba",
   "metadata": {},
   "outputs": [
    {
     "name": "stderr",
     "output_type": "stream",
     "text": [
      "10:38:59 - INFO: Sampling 1 new images....\n",
      "100%|████████████████████████████████████████████████████████████████████████████████████████████████████████████████████████████████████████████████████████████████████████████████████████████████| 499/499 [00:27<00:00, 17.90it/s]\n"
     ]
    }
   ],
   "source": [
    "sampled_image = diffusion.p_sample_loop(reconstructed_image.unsqueeze(0).to(device), mask.unsqueeze(0).to(device), model,  batch_size=1)"
   ]
  },
  {
   "cell_type": "code",
   "execution_count": 64,
   "id": "536beece-a480-4363-8842-d453591ec3c2",
   "metadata": {},
   "outputs": [
    {
     "name": "stderr",
     "output_type": "stream",
     "text": [
      "10:39:27 - WARNING: Clipping input data to the valid range for imshow with RGB data ([0..1] for floats or [0..255] for integers).\n"
     ]
    },
    {
     "data": {
      "image/png": "[encoded data removed]",
      "text/plain": [
       "<Figure size 640x480 with 1 Axes>"
      ]
     },
     "metadata": {},
     "output_type": "display_data"
    }
   ],
   "source": [
    "plt.imshow(sampled_image.squeeze(0).cpu().permute((1,2,0)))\n",
    "plt.tick_params(left = False, right = False , labelleft = False , \n",
    "                labelbottom = False, bottom = False) \n",
    "#plt.savefig('lpips.png', bbox_inches='tight')"
   ]
  },
  {
   "cell_type": "code",
   "execution_count": 53,
   "id": "8a557e48-8e67-46a5-b951-93bfbb176bd5",
   "metadata": {},
   "outputs": [
    {
     "data": {
      "text/plain": [
       "<Axes: >"
      ]
     },
     "execution_count": 53,
     "metadata": {},
     "output_type": "execute_result"
    }
   ],
   "source": [
    "axs[0][0]"
   ]
  },
  {
   "cell_type": "code",
   "execution_count": 55,
   "id": "fa30caf2-28cf-4c12-9995-431d7a84256d",
   "metadata": {},
   "outputs": [
    {
     "name": "stderr",
     "output_type": "stream",
     "text": [
      "10:18:08 - WARNING: Clipping input data to the valid range for imshow with RGB data ([0..1] for floats or [0..255] for integers).\n"
     ]
    },
    {
     "data": {
      "image/png": "[encoded data removed]",
      "text/plain": [
       "<Figure size 1000x1200 with 6 Axes>"
      ]
     },
     "metadata": {},
     "output_type": "display_data"
    }
   ],
   "source": [
    "fig, axs = plt.subplots(2,3, figsize=(10,12))\n",
    "axs[0][0].imshow(img.permute((1,2,0)))\n",
    "axs[0][0].title.set_text('Original image')\n",
    "axs[0][0].tick_params(left = False, right = False , labelleft = False , \n",
    "                labelbottom = False, bottom = False) \n",
    "axs[0][1].title.set_text('Brightened image')\n",
    "axs[0][1].imshow(bright_image.permute((1,2,0)))\n",
    "axs[0][1].tick_params(left = False, right = False , labelleft = False , \n",
    "                labelbottom = False, bottom = False) \n",
    "axs[0][2].imshow(mask)\n",
    "axs[0][2].title.set_text('Mask')\n",
    "axs[0][2].tick_params(left = False, right = False , labelleft = False , \n",
    "                labelbottom = False, bottom = False) \n",
    "axs[1][0].imshow(reconstructed_image.permute((1,2,0)))\n",
    "axs[1][0].title.set_text('Reconstructed image')\n",
    "axs[1][0].tick_params(left = False, right = False , labelleft = False , \n",
    "                labelbottom = False, bottom = False) \n",
    "\n",
    "axs[0][2].imshow(mask)\n",
    "axs[0][2].title.set_text('Mask')\n",
    "axs[0][2].tick_params(left = False, right = False , labelleft = False , \n",
    "                labelbottom = False, bottom = False) \n",
    "\n",
    "\n",
    "axs[1][1].imshow(sampled_image.squeeze(0).cpu().permute((1,2,0))) # Known region\n",
    "axs[1][1].title.set_text('Inpainted image')\n",
    "axs[1][1].tick_params(left = False, right = False , labelleft = False , \n",
    "                labelbottom = False, bottom = False) \n",
    "plt.show()"
   ]
  },
  {
   "cell_type": "markdown",
   "id": "713a2787-73c7-4933-ba9c-30962b1886d1",
   "metadata": {},
   "source": [
    "# Comparison table"
   ]
  },
  {
   "cell_type": "code",
   "execution_count": 85,
   "id": "d53974ac-a133-40e1-8945-50769ffc82fc",
   "metadata": {},
   "outputs": [],
   "source": [
    "test_dataset = CorrectionImageDataset(test_images, train=False, transform=transform)"
   ]
  },
  {
   "cell_type": "code",
   "execution_count": 90,
   "id": "0938b775-e111-48d0-9cff-c07340b57b4a",
   "metadata": {},
   "outputs": [],
   "source": [
    "test_dataloader = DataLoader(test_dataset,\n",
    "                               batch_size=BATCH_SIZE,\n",
    "                               shuffle=False,\n",
    "                               #persistent_workers=True,\n",
    "                               num_workers=6,\n",
    "                               pin_memory=True)\n"
   ]
  },
  {
   "cell_type": "code",
   "execution_count": 91,
   "id": "963c4976-a4f9-435a-b5cd-2a12d6065a43",
   "metadata": {},
   "outputs": [
    {
     "data": {
      "text/plain": [
       "<All keys matched successfully>"
      ]
     },
     "execution_count": 91,
     "metadata": {},
     "output_type": "execute_result"
    }
   ],
   "source": [
    "model = UNet(img_size=IM_SIZE, c_in=3, c_out=3, \n",
    "             time_dim=256,channels=64, device=device).to(device)\n",
    "diffusion = Diffusion(img_size=IM_SIZE, T=500, beta_start=1e-4, beta_end=0.02, device=device)\n",
    "ckpt = torch.load(\"models/pretrained_lpips_32/weights-30.pt\")\n",
    "model.load_state_dict(ckpt)"
   ]
  },
  {
   "cell_type": "code",
   "execution_count": 92,
   "id": "cc14c51e-89cc-4e20-9ad7-f04c787668b9",
   "metadata": {},
   "outputs": [
    {
     "name": "stdout",
     "output_type": "stream",
     "text": [
      "Setting up [LPIPS] perceptual loss: trunk [alex], v[0.1], spatial [off]\n",
      "Loading model from: /home/jakwisn/.pyenv/versions/3.11.4/lib/python3.11/site-packages/lpips/weights/v0.1/alex.pth\n"
     ]
    }
   ],
   "source": [
    "loss_func = lpips.LPIPS(net='alex').to(device)"
   ]
  },
  {
   "cell_type": "code",
   "execution_count": 93,
   "id": "6bb30d52-1417-473f-b878-2c21ed1ad8e2",
   "metadata": {},
   "outputs": [
    {
     "name": "stderr",
     "output_type": "stream",
     "text": [
      "  0%|                                                                                                                           | 0/25 [00:00<?, ?it/s]10:30:03 - INFO: Sampling 6 new images....\n",
      "100%|████████████████████████████████████████████████████████████████████████████████████████████████████████████████| 499/499 [00:18<00:00, 27.49it/s]\n",
      "  4%|████▌                                                                                                              | 1/25 [00:18<07:27, 18.66s/it]10:30:21 - INFO: Sampling 6 new images....\n",
      "100%|████████████████████████████████████████████████████████████████████████████████████████████████████████████████| 499/499 [00:17<00:00, 28.36it/s]\n",
      "  8%|█████████▏                                                                                                         | 2/25 [00:36<06:54, 18.04s/it]10:30:39 - INFO: Sampling 6 new images....\n",
      "100%|████████████████████████████████████████████████████████████████████████████████████████████████████████████████| 499/499 [00:17<00:00, 27.79it/s]\n",
      " 12%|█████████████▊                                                                                                     | 3/25 [00:54<06:36, 18.01s/it]10:30:57 - INFO: Sampling 6 new images....\n",
      "100%|████████████████████████████████████████████████████████████████████████████████████████████████████████████████| 499/499 [00:18<00:00, 27.50it/s]\n",
      " 16%|██████████████████▍                                                                                                | 4/25 [01:12<06:19, 18.07s/it]10:31:15 - INFO: Sampling 6 new images....\n",
      "100%|████████████████████████████████████████████████████████████████████████████████████████████████████████████████| 499/499 [00:18<00:00, 26.78it/s]\n",
      " 20%|███████████████████████                                                                                            | 5/25 [01:31<06:05, 18.27s/it]10:31:33 - INFO: Sampling 6 new images....\n",
      "100%|████████████████████████████████████████████████████████████████████████████████████████████████████████████████| 499/499 [00:18<00:00, 26.70it/s]\n",
      " 24%|███████████████████████████▌                                                                                       | 6/25 [01:49<05:49, 18.42s/it]10:31:52 - INFO: Sampling 6 new images....\n",
      "100%|████████████████████████████████████████████████████████████████████████████████████████████████████████████████| 499/499 [00:18<00:00, 26.57it/s]\n",
      " 28%|████████████████████████████████▏                                                                                  | 7/25 [02:08<05:33, 18.54s/it]10:32:11 - INFO: Sampling 6 new images....\n",
      "100%|████████████████████████████████████████████████████████████████████████████████████████████████████████████████| 499/499 [00:18<00:00, 26.69it/s]\n",
      " 32%|████████████████████████████████████▊                                                                              | 8/25 [02:27<05:16, 18.59s/it]10:32:30 - INFO: Sampling 6 new images....\n",
      "100%|████████████████████████████████████████████████████████████████████████████████████████████████████████████████| 499/499 [00:18<00:00, 27.33it/s]\n",
      " 36%|█████████████████████████████████████████▍                                                                         | 9/25 [02:45<04:55, 18.49s/it]10:32:48 - INFO: Sampling 6 new images....\n",
      "100%|████████████████████████████████████████████████████████████████████████████████████████████████████████████████| 499/499 [00:18<00:00, 26.96it/s]\n",
      " 40%|█████████████████████████████████████████████▌                                                                    | 10/25 [03:04<04:37, 18.50s/it]10:33:06 - INFO: Sampling 6 new images....\n",
      "100%|████████████████████████████████████████████████████████████████████████████████████████████████████████████████| 499/499 [00:17<00:00, 27.82it/s]\n",
      " 44%|██████████████████████████████████████████████████▏                                                               | 11/25 [03:21<04:16, 18.33s/it]10:33:24 - INFO: Sampling 6 new images....\n",
      "100%|████████████████████████████████████████████████████████████████████████████████████████████████████████████████| 499/499 [00:19<00:00, 25.44it/s]\n",
      " 48%|██████████████████████████████████████████████████████▋                                                           | 12/25 [03:41<04:03, 18.73s/it]10:33:44 - INFO: Sampling 6 new images....\n",
      "100%|████████████████████████████████████████████████████████████████████████████████████████████████████████████████| 499/499 [00:20<00:00, 24.34it/s]\n",
      " 52%|███████████████████████████████████████████████████████████▎                                                      | 13/25 [04:02<03:51, 19.27s/it]10:34:05 - INFO: Sampling 6 new images....\n",
      "100%|████████████████████████████████████████████████████████████████████████████████████████████████████████████████| 499/499 [00:21<00:00, 22.80it/s]\n",
      " 56%|███████████████████████████████████████████████████████████████▊                                                  | 14/25 [04:24<03:40, 20.07s/it]10:34:26 - INFO: Sampling 6 new images....\n",
      "100%|████████████████████████████████████████████████████████████████████████████████████████████████████████████████| 499/499 [00:19<00:00, 26.16it/s]\n",
      " 60%|████████████████████████████████████████████████████████████████████▍                                             | 15/25 [04:43<03:17, 19.77s/it]10:34:46 - INFO: Sampling 6 new images....\n",
      "100%|████████████████████████████████████████████████████████████████████████████████████████████████████████████████| 499/499 [00:18<00:00, 26.55it/s]\n",
      " 64%|████████████████████████████████████████████████████████████████████████▉                                         | 16/25 [05:01<02:55, 19.48s/it]10:35:04 - INFO: Sampling 6 new images....\n",
      "100%|████████████████████████████████████████████████████████████████████████████████████████████████████████████████| 499/499 [00:20<00:00, 24.92it/s]\n",
      " 68%|█████████████████████████████████████████████████████████████████████████████▌                                    | 17/25 [05:21<02:37, 19.65s/it]10:35:24 - INFO: Sampling 6 new images....\n",
      "100%|████████████████████████████████████████████████████████████████████████████████████████████████████████████████| 499/499 [00:19<00:00, 25.52it/s]\n",
      " 72%|██████████████████████████████████████████████████████████████████████████████████                                | 18/25 [05:41<02:17, 19.62s/it]10:35:44 - INFO: Sampling 6 new images....\n",
      "100%|████████████████████████████████████████████████████████████████████████████████████████████████████████████████| 499/499 [00:19<00:00, 25.33it/s]\n",
      " 76%|██████████████████████████████████████████████████████████████████████████████████████▋                           | 19/25 [06:01<01:57, 19.65s/it]10:36:04 - INFO: Sampling 6 new images....\n",
      "100%|████████████████████████████████████████████████████████████████████████████████████████████████████████████████| 499/499 [00:19<00:00, 25.21it/s]\n",
      " 80%|███████████████████████████████████████████████████████████████████████████████████████████▏                      | 20/25 [06:21<01:38, 19.70s/it]10:36:24 - INFO: Sampling 6 new images....\n",
      "100%|████████████████████████████████████████████████████████████████████████████████████████████████████████████████| 499/499 [00:19<00:00, 25.77it/s]\n",
      " 84%|███████████████████████████████████████████████████████████████████████████████████████████████▊                  | 21/25 [06:40<01:18, 19.60s/it]10:36:43 - INFO: Sampling 6 new images....\n",
      "100%|████████████████████████████████████████████████████████████████████████████████████████████████████████████████| 499/499 [00:19<00:00, 26.14it/s]\n",
      " 88%|████████████████████████████████████████████████████████████████████████████████████████████████████▎             | 22/25 [06:59<00:58, 19.45s/it]10:37:02 - INFO: Sampling 6 new images....\n",
      "100%|████████████████████████████████████████████████████████████████████████████████████████████████████████████████| 499/499 [00:19<00:00, 24.99it/s]\n",
      " 92%|████████████████████████████████████████████████████████████████████████████████████████████████████████▉         | 23/25 [07:19<00:39, 19.61s/it]10:37:22 - INFO: Sampling 6 new images....\n",
      "100%|████████████████████████████████████████████████████████████████████████████████████████████████████████████████| 499/499 [00:19<00:00, 25.72it/s]\n",
      " 96%|█████████████████████████████████████████████████████████████████████████████████████████████████████████████▍    | 24/25 [07:38<00:19, 19.55s/it]10:37:41 - INFO: Sampling 6 new images....\n",
      "100%|████████████████████████████████████████████████████████████████████████████████████████████████████████████████| 499/499 [00:20<00:00, 24.22it/s]\n",
      "100%|██████████████████████████████████████████████████████████████████████████████████████████████████████████████████| 25/25 [07:59<00:00, 19.18s/it]\n"
     ]
    }
   ],
   "source": [
    "pbar = tqdm(test_dataloader)\n",
    "losses = []\n",
    "with torch.no_grad():\n",
    "    for i, (images, masks) in enumerate(pbar):\n",
    "        images = images.to(device)\n",
    "        masks = masks.to(device).unsqueeze(1)\n",
    "\n",
    "        sampled_images = diffusion.p_sample_loop(images, masks, model,  batch_size=images.shape[0])\n",
    "        l = loss_func(images, sampled_images)\n",
    "        losses.append(l.detach().cpu())"
   ]
  },
  {
   "cell_type": "code",
   "execution_count": 105,
   "id": "44e2ed33-e47e-40d1-9351-c4e8193cdd3a",
   "metadata": {},
   "outputs": [],
   "source": [
    "pretrained_lpips = np.array([x.flatten().numpy() for x in losses]).flatten()"
   ]
  },
  {
   "cell_type": "code",
   "execution_count": 106,
   "id": "77ee79f1-1353-4976-b238-dc40d680a781",
   "metadata": {},
   "outputs": [
    {
     "data": {
      "text/plain": [
       "<All keys matched successfully>"
      ]
     },
     "execution_count": 106,
     "metadata": {},
     "output_type": "execute_result"
    }
   ],
   "source": [
    "model = UNet(img_size=IM_SIZE, c_in=3, c_out=3, \n",
    "             time_dim=256,channels=64, device=device).to(device)\n",
    "diffusion = Diffusion(img_size=IM_SIZE, T=500, beta_start=1e-4, beta_end=0.02, device=device)\n",
    "ckpt = torch.load(\"models/raw_lpips_32_2/weights-30.pt\")\n",
    "model.load_state_dict(ckpt)"
   ]
  },
  {
   "cell_type": "code",
   "execution_count": 107,
   "id": "a8331e7e-506b-489c-928f-6e19520c5ef2",
   "metadata": {},
   "outputs": [
    {
     "name": "stdout",
     "output_type": "stream",
     "text": [
      "Setting up [LPIPS] perceptual loss: trunk [alex], v[0.1], spatial [off]\n",
      "Loading model from: /home/jakwisn/.pyenv/versions/3.11.4/lib/python3.11/site-packages/lpips/weights/v0.1/alex.pth\n"
     ]
    }
   ],
   "source": [
    "loss_func = lpips.LPIPS(net='alex').to(device)"
   ]
  },
  {
   "cell_type": "code",
   "execution_count": 108,
   "id": "e1c97155-2e09-4f51-9aab-8ee4cf69d0e5",
   "metadata": {},
   "outputs": [
    {
     "name": "stderr",
     "output_type": "stream",
     "text": [
      "  0%|                                                                                                                           | 0/25 [00:00<?, ?it/s]10:42:02 - INFO: Sampling 6 new images....\n",
      "100%|████████████████████████████████████████████████████████████████████████████████████████████████████████████████| 499/499 [00:17<00:00, 27.85it/s]\n",
      "  4%|████▌                                                                                                              | 1/25 [00:18<07:19, 18.30s/it]10:42:20 - INFO: Sampling 6 new images....\n",
      "100%|████████████████████████████████████████████████████████████████████████████████████████████████████████████████| 499/499 [00:17<00:00, 28.58it/s]\n",
      "  8%|█████████▏                                                                                                         | 2/25 [00:35<06:49, 17.81s/it]10:42:38 - INFO: Sampling 6 new images....\n",
      "100%|████████████████████████████████████████████████████████████████████████████████████████████████████████████████| 499/499 [00:17<00:00, 27.76it/s]\n",
      " 12%|█████████████▊                                                                                                     | 3/25 [00:53<06:33, 17.89s/it]10:42:56 - INFO: Sampling 6 new images....\n",
      "100%|████████████████████████████████████████████████████████████████████████████████████████████████████████████████| 499/499 [00:18<00:00, 27.70it/s]\n",
      " 16%|██████████████████▍                                                                                                | 4/25 [01:11<06:16, 17.95s/it]10:43:14 - INFO: Sampling 6 new images....\n",
      "100%|████████████████████████████████████████████████████████████████████████████████████████████████████████████████| 499/499 [00:17<00:00, 27.77it/s]\n",
      " 20%|███████████████████████                                                                                            | 5/25 [01:29<05:59, 17.96s/it]10:43:32 - INFO: Sampling 6 new images....\n",
      "100%|████████████████████████████████████████████████████████████████████████████████████████████████████████████████| 499/499 [00:17<00:00, 28.10it/s]\n",
      " 24%|███████████████████████████▌                                                                                       | 6/25 [01:47<05:40, 17.89s/it]10:43:50 - INFO: Sampling 6 new images....\n",
      "100%|████████████████████████████████████████████████████████████████████████████████████████████████████████████████| 499/499 [00:18<00:00, 27.49it/s]\n",
      " 28%|████████████████████████████████▏                                                                                  | 7/25 [02:05<05:23, 17.98s/it]10:44:08 - INFO: Sampling 6 new images....\n",
      "100%|████████████████████████████████████████████████████████████████████████████████████████████████████████████████| 499/499 [00:18<00:00, 26.94it/s]\n",
      " 32%|████████████████████████████████████▊                                                                              | 8/25 [02:24<05:08, 18.16s/it]10:44:26 - INFO: Sampling 6 new images....\n",
      "100%|████████████████████████████████████████████████████████████████████████████████████████████████████████████████| 499/499 [00:18<00:00, 27.30it/s]\n",
      " 36%|█████████████████████████████████████████▍                                                                         | 9/25 [02:42<04:51, 18.20s/it]10:44:45 - INFO: Sampling 6 new images....\n",
      "100%|████████████████████████████████████████████████████████████████████████████████████████████████████████████████| 499/499 [00:18<00:00, 27.46it/s]\n",
      " 40%|█████████████████████████████████████████████▌                                                                    | 10/25 [03:00<04:32, 18.20s/it]10:45:03 - INFO: Sampling 6 new images....\n",
      "100%|████████████████████████████████████████████████████████████████████████████████████████████████████████████████| 499/499 [00:18<00:00, 27.43it/s]\n",
      " 44%|██████████████████████████████████████████████████▏                                                               | 11/25 [03:18<04:14, 18.20s/it]10:45:21 - INFO: Sampling 6 new images....\n",
      "100%|████████████████████████████████████████████████████████████████████████████████████████████████████████████████| 499/499 [00:18<00:00, 27.23it/s]\n",
      " 48%|██████████████████████████████████████████████████████▋                                                           | 12/25 [03:37<03:57, 18.24s/it]10:45:39 - INFO: Sampling 6 new images....\n",
      "100%|████████████████████████████████████████████████████████████████████████████████████████████████████████████████| 499/499 [00:18<00:00, 27.36it/s]\n",
      " 52%|███████████████████████████████████████████████████████████▎                                                      | 13/25 [03:55<03:38, 18.24s/it]10:45:58 - INFO: Sampling 6 new images....\n",
      "100%|████████████████████████████████████████████████████████████████████████████████████████████████████████████████| 499/499 [00:18<00:00, 27.45it/s]\n",
      " 56%|███████████████████████████████████████████████████████████████▊                                                  | 14/25 [04:13<03:20, 18.23s/it]10:46:16 - INFO: Sampling 6 new images....\n",
      "100%|████████████████████████████████████████████████████████████████████████████████████████████████████████████████| 499/499 [00:19<00:00, 26.18it/s]\n",
      " 60%|████████████████████████████████████████████████████████████████████▍                                             | 15/25 [04:32<03:04, 18.48s/it]10:46:35 - INFO: Sampling 6 new images....\n",
      "100%|████████████████████████████████████████████████████████████████████████████████████████████████████████████████| 499/499 [00:19<00:00, 26.16it/s]\n",
      " 64%|████████████████████████████████████████████████████████████████████████▉                                         | 16/25 [04:51<02:47, 18.66s/it]10:46:54 - INFO: Sampling 6 new images....\n",
      "100%|████████████████████████████████████████████████████████████████████████████████████████████████████████████████| 499/499 [00:18<00:00, 27.70it/s]\n",
      " 68%|█████████████████████████████████████████████████████████████████████████████▌                                    | 17/25 [05:09<02:27, 18.47s/it]10:47:12 - INFO: Sampling 6 new images....\n",
      "100%|████████████████████████████████████████████████████████████████████████████████████████████████████████████████| 499/499 [00:17<00:00, 28.17it/s]\n",
      " 72%|██████████████████████████████████████████████████████████████████████████████████                                | 18/25 [05:27<02:07, 18.25s/it]10:47:30 - INFO: Sampling 6 new images....\n",
      "100%|████████████████████████████████████████████████████████████████████████████████████████████████████████████████| 499/499 [00:17<00:00, 28.05it/s]\n",
      " 76%|██████████████████████████████████████████████████████████████████████████████████████▋                           | 19/25 [05:45<01:48, 18.11s/it]10:47:48 - INFO: Sampling 6 new images....\n",
      "100%|████████████████████████████████████████████████████████████████████████████████████████████████████████████████| 499/499 [00:17<00:00, 27.78it/s]\n",
      " 80%|███████████████████████████████████████████████████████████████████████████████████████████▏                      | 20/25 [06:03<01:30, 18.07s/it]10:48:06 - INFO: Sampling 6 new images....\n",
      "100%|████████████████████████████████████████████████████████████████████████████████████████████████████████████████| 499/499 [00:18<00:00, 27.19it/s]\n",
      " 84%|███████████████████████████████████████████████████████████████████████████████████████████████▊                  | 21/25 [06:21<01:12, 18.16s/it]10:48:24 - INFO: Sampling 6 new images....\n",
      "100%|████████████████████████████████████████████████████████████████████████████████████████████████████████████████| 499/499 [00:18<00:00, 27.08it/s]\n",
      " 88%|████████████████████████████████████████████████████████████████████████████████████████████████████▎             | 22/25 [06:40<00:54, 18.24s/it]10:48:42 - INFO: Sampling 6 new images....\n",
      "100%|████████████████████████████████████████████████████████████████████████████████████████████████████████████████| 499/499 [00:18<00:00, 27.38it/s]\n",
      " 92%|████████████████████████████████████████████████████████████████████████████████████████████████████████▉         | 23/25 [06:58<00:36, 18.24s/it]10:49:01 - INFO: Sampling 6 new images....\n",
      "100%|████████████████████████████████████████████████████████████████████████████████████████████████████████████████| 499/499 [00:19<00:00, 26.18it/s]\n",
      " 96%|█████████████████████████████████████████████████████████████████████████████████████████████████████████████▍    | 24/25 [07:17<00:18, 18.49s/it]10:49:20 - INFO: Sampling 6 new images....\n",
      "100%|████████████████████████████████████████████████████████████████████████████████████████████████████████████████| 499/499 [00:18<00:00, 27.02it/s]\n",
      "100%|██████████████████████████████████████████████████████████████████████████████████████████████████████████████████| 25/25 [07:36<00:00, 18.24s/it]\n"
     ]
    }
   ],
   "source": [
    "pbar = tqdm(test_dataloader)\n",
    "losses = []\n",
    "with torch.no_grad():\n",
    "    for i, (images, masks) in enumerate(pbar):\n",
    "        images = images.to(device)\n",
    "        masks = masks.to(device).unsqueeze(1)\n",
    "\n",
    "        sampled_images = diffusion.p_sample_loop(images, masks, model,  batch_size=images.shape[0])\n",
    "        l = loss_func(images, sampled_images)\n",
    "        losses.append(l.detach().cpu())"
   ]
  },
  {
   "cell_type": "code",
   "execution_count": 110,
   "id": "ca82617a-96da-47a7-b7aa-cdd52aee9516",
   "metadata": {},
   "outputs": [],
   "source": [
    "raw_lpips = np.array([x.flatten().numpy() for x in losses]).flatten()"
   ]
  },
  {
   "cell_type": "code",
   "execution_count": 111,
   "id": "e35ccc2f-2347-454b-bafc-28c625fd7003",
   "metadata": {},
   "outputs": [
    {
     "data": {
      "text/plain": [
       "0.27392277"
      ]
     },
     "execution_count": 111,
     "metadata": {},
     "output_type": "execute_result"
    }
   ],
   "source": [
    "raw_lpips.mean()"
   ]
  },
  {
   "cell_type": "code",
   "execution_count": 112,
   "id": "adf0cc0f-2d05-4d50-82b9-1ba9bd1e9969",
   "metadata": {},
   "outputs": [
    {
     "data": {
      "text/plain": [
       "0.0066363807"
      ]
     },
     "execution_count": 112,
     "metadata": {},
     "output_type": "execute_result"
    }
   ],
   "source": [
    "pretrained_lpips.mean()"
   ]
  },
  {
   "cell_type": "code",
   "execution_count": 113,
   "id": "9f74e406-74d3-4f99-815d-2c9a133ced27",
   "metadata": {},
   "outputs": [
    {
     "data": {
      "text/plain": [
       "<All keys matched successfully>"
      ]
     },
     "execution_count": 113,
     "metadata": {},
     "output_type": "execute_result"
    }
   ],
   "source": [
    "model = UNet(img_size=IM_SIZE, c_in=3, c_out=3, \n",
    "             time_dim=256,channels=64, device=device).to(device)\n",
    "diffusion = Diffusion(img_size=IM_SIZE, T=500, beta_start=1e-4, beta_end=0.02, device=device)\n",
    "ckpt = torch.load(\"models/raw_training_mse_32/weights-30.pt\")\n",
    "model.load_state_dict(ckpt)"
   ]
  },
  {
   "cell_type": "code",
   "execution_count": 114,
   "id": "9e7a7ba2-32f3-47e9-9105-65935cc63cc5",
   "metadata": {},
   "outputs": [
    {
     "name": "stdout",
     "output_type": "stream",
     "text": [
      "Setting up [LPIPS] perceptual loss: trunk [alex], v[0.1], spatial [off]\n",
      "Loading model from: /home/jakwisn/.pyenv/versions/3.11.4/lib/python3.11/site-packages/lpips/weights/v0.1/alex.pth\n"
     ]
    }
   ],
   "source": [
    "loss_func = lpips.LPIPS(net='alex').to(device)"
   ]
  },
  {
   "cell_type": "code",
   "execution_count": 115,
   "id": "5d5cffae-69c8-4584-8f8f-0e8c715abf39",
   "metadata": {},
   "outputs": [
    {
     "name": "stderr",
     "output_type": "stream",
     "text": [
      "  0%|                                                                                                                           | 0/25 [00:00<?, ?it/s]10:53:26 - INFO: Sampling 6 new images....\n",
      "100%|████████████████████████████████████████████████████████████████████████████████████████████████████████████████| 499/499 [00:18<00:00, 27.45it/s]\n",
      "  4%|████▌                                                                                                              | 1/25 [00:18<07:26, 18.59s/it]10:53:44 - INFO: Sampling 6 new images....\n",
      "100%|████████████████████████████████████████████████████████████████████████████████████████████████████████████████| 499/499 [00:17<00:00, 28.27it/s]\n",
      "  8%|█████████▏                                                                                                         | 2/25 [00:36<06:54, 18.04s/it]10:54:02 - INFO: Sampling 6 new images....\n",
      "100%|████████████████████████████████████████████████████████████████████████████████████████████████████████████████| 499/499 [00:18<00:00, 27.65it/s]\n",
      " 12%|█████████████▊                                                                                                     | 3/25 [00:54<06:37, 18.05s/it]10:54:20 - INFO: Sampling 6 new images....\n",
      "100%|████████████████████████████████████████████████████████████████████████████████████████████████████████████████| 499/499 [00:18<00:00, 26.58it/s]\n",
      " 16%|██████████████████▍                                                                                                | 4/25 [01:13<06:25, 18.34s/it]10:54:39 - INFO: Sampling 6 new images....\n",
      "100%|████████████████████████████████████████████████████████████████████████████████████████████████████████████████| 499/499 [00:18<00:00, 27.37it/s]\n",
      " 20%|███████████████████████                                                                                            | 5/25 [01:31<06:06, 18.31s/it]10:54:57 - INFO: Sampling 6 new images....\n",
      "100%|████████████████████████████████████████████████████████████████████████████████████████████████████████████████| 499/499 [00:18<00:00, 26.78it/s]\n",
      " 24%|███████████████████████████▌                                                                                       | 6/25 [01:49<05:50, 18.42s/it]10:55:15 - INFO: Sampling 6 new images....\n",
      "100%|████████████████████████████████████████████████████████████████████████████████████████████████████████████████| 499/499 [00:18<00:00, 26.54it/s]\n",
      " 28%|████████████████████████████████▏                                                                                  | 7/25 [02:08<05:33, 18.55s/it]10:55:34 - INFO: Sampling 6 new images....\n",
      "100%|████████████████████████████████████████████████████████████████████████████████████████████████████████████████| 499/499 [00:18<00:00, 26.99it/s]\n",
      " 32%|████████████████████████████████████▊                                                                              | 8/25 [02:27<05:15, 18.54s/it]10:55:53 - INFO: Sampling 6 new images....\n",
      "100%|████████████████████████████████████████████████████████████████████████████████████████████████████████████████| 499/499 [00:18<00:00, 27.18it/s]\n",
      " 36%|█████████████████████████████████████████▍                                                                         | 9/25 [02:45<04:55, 18.49s/it]10:56:11 - INFO: Sampling 6 new images....\n",
      "100%|████████████████████████████████████████████████████████████████████████████████████████████████████████████████| 499/499 [00:18<00:00, 27.16it/s]\n",
      " 40%|█████████████████████████████████████████████▌                                                                    | 10/25 [03:04<04:36, 18.46s/it]10:56:30 - INFO: Sampling 6 new images....\n",
      "100%|████████████████████████████████████████████████████████████████████████████████████████████████████████████████| 499/499 [00:18<00:00, 26.65it/s]\n",
      " 44%|██████████████████████████████████████████████████▏                                                               | 11/25 [03:22<04:19, 18.54s/it]10:56:48 - INFO: Sampling 6 new images....\n",
      "100%|████████████████████████████████████████████████████████████████████████████████████████████████████████████████| 499/499 [00:19<00:00, 26.13it/s]\n",
      " 48%|██████████████████████████████████████████████████████▋                                                           | 12/25 [03:41<04:03, 18.71s/it]10:57:07 - INFO: Sampling 6 new images....\n",
      "100%|████████████████████████████████████████████████████████████████████████████████████████████████████████████████| 499/499 [00:18<00:00, 27.44it/s]\n",
      " 52%|███████████████████████████████████████████████████████████▎                                                      | 13/25 [04:00<03:42, 18.56s/it]10:57:26 - INFO: Sampling 6 new images....\n",
      "100%|████████████████████████████████████████████████████████████████████████████████████████████████████████████████| 499/499 [00:17<00:00, 28.48it/s]\n",
      " 56%|███████████████████████████████████████████████████████████████▊                                                  | 14/25 [04:17<03:20, 18.25s/it]10:57:43 - INFO: Sampling 6 new images....\n",
      "100%|████████████████████████████████████████████████████████████████████████████████████████████████████████████████| 499/499 [00:19<00:00, 25.39it/s]\n",
      " 60%|████████████████████████████████████████████████████████████████████▍                                             | 15/25 [04:37<03:06, 18.68s/it]10:58:03 - INFO: Sampling 6 new images....\n",
      "100%|████████████████████████████████████████████████████████████████████████████████████████████████████████████████| 499/499 [00:20<00:00, 24.79it/s]\n",
      " 64%|████████████████████████████████████████████████████████████████████████▉                                         | 16/25 [04:57<02:52, 19.12s/it]10:58:23 - INFO: Sampling 6 new images....\n",
      "100%|████████████████████████████████████████████████████████████████████████████████████████████████████████████████| 499/499 [00:18<00:00, 26.89it/s]\n",
      " 68%|█████████████████████████████████████████████████████████████████████████████▌                                    | 17/25 [05:16<02:31, 18.95s/it]10:58:42 - INFO: Sampling 6 new images....\n",
      "100%|████████████████████████████████████████████████████████████████████████████████████████████████████████████████| 499/499 [00:18<00:00, 26.67it/s]\n",
      " 72%|██████████████████████████████████████████████████████████████████████████████████                                | 18/25 [05:34<02:12, 18.89s/it]10:59:00 - INFO: Sampling 6 new images....\n",
      "100%|████████████████████████████████████████████████████████████████████████████████████████████████████████████████| 499/499 [00:19<00:00, 26.26it/s]\n",
      " 76%|██████████████████████████████████████████████████████████████████████████████████████▋                           | 19/25 [05:53<01:53, 18.92s/it]10:59:19 - INFO: Sampling 6 new images....\n",
      "100%|████████████████████████████████████████████████████████████████████████████████████████████████████████████████| 499/499 [00:18<00:00, 26.60it/s]\n",
      " 80%|███████████████████████████████████████████████████████████████████████████████████████████▏                      | 20/25 [06:12<01:34, 18.88s/it]10:59:38 - INFO: Sampling 6 new images....\n",
      "100%|████████████████████████████████████████████████████████████████████████████████████████████████████████████████| 499/499 [00:18<00:00, 26.90it/s]\n",
      " 84%|███████████████████████████████████████████████████████████████████████████████████████████████▊                  | 21/25 [06:31<01:15, 18.78s/it]10:59:57 - INFO: Sampling 6 new images....\n",
      "100%|████████████████████████████████████████████████████████████████████████████████████████████████████████████████| 499/499 [00:18<00:00, 27.09it/s]\n",
      " 88%|████████████████████████████████████████████████████████████████████████████████████████████████████▎             | 22/25 [06:49<00:56, 18.68s/it]11:00:15 - INFO: Sampling 6 new images....\n",
      "100%|████████████████████████████████████████████████████████████████████████████████████████████████████████████████| 499/499 [00:19<00:00, 26.22it/s]\n",
      " 92%|████████████████████████████████████████████████████████████████████████████████████████████████████████▉         | 23/25 [07:08<00:37, 18.79s/it]11:00:34 - INFO: Sampling 6 new images....\n",
      "100%|████████████████████████████████████████████████████████████████████████████████████████████████████████████████| 499/499 [00:19<00:00, 25.93it/s]\n",
      " 96%|█████████████████████████████████████████████████████████████████████████████████████████████████████████████▍    | 24/25 [07:27<00:18, 18.93s/it]11:00:53 - INFO: Sampling 6 new images....\n",
      "100%|████████████████████████████████████████████████████████████████████████████████████████████████████████████████| 499/499 [00:18<00:00, 26.90it/s]\n",
      "100%|██████████████████████████████████████████████████████████████████████████████████████████████████████████████████| 25/25 [07:46<00:00, 18.66s/it]\n"
     ]
    }
   ],
   "source": [
    "pbar = tqdm(test_dataloader)\n",
    "losses = []\n",
    "with torch.no_grad():\n",
    "    for i, (images, masks) in enumerate(pbar):\n",
    "        images = images.to(device)\n",
    "        masks = masks.to(device).unsqueeze(1)\n",
    "\n",
    "        sampled_images = diffusion.p_sample_loop(images, masks, model,  batch_size=images.shape[0])\n",
    "        l = loss_func(images, sampled_images)\n",
    "        losses.append(l.detach().cpu())"
   ]
  },
  {
   "cell_type": "code",
   "execution_count": 116,
   "id": "7f3f42df-16d0-4b42-9295-57ae1af63549",
   "metadata": {},
   "outputs": [],
   "source": [
    "raw_mse = np.array([x.flatten().numpy() for x in losses]).flatten()"
   ]
  },
  {
   "cell_type": "code",
   "execution_count": 136,
   "id": "5bbca49e-2eda-4ee6-ad7d-f0e219b1d4fc",
   "metadata": {},
   "outputs": [
    {
     "data": {
      "text/plain": [
       "<All keys matched successfully>"
      ]
     },
     "execution_count": 136,
     "metadata": {},
     "output_type": "execute_result"
    }
   ],
   "source": [
    "model = UNet(img_size=IM_SIZE, c_in=3, c_out=3, \n",
    "             time_dim=256,channels=64, device=device).to(device)\n",
    "diffusion = Diffusion(img_size=IM_SIZE, T=500, beta_start=1e-4, beta_end=0.02, device=device)\n",
    "ckpt = torch.load(\"models/raw_training_mse_32/weights-30.pt\")\n",
    "model.load_state_dict(ckpt)"
   ]
  },
  {
   "cell_type": "code",
   "execution_count": 137,
   "id": "57afd10e-3679-4a3a-bf12-7fe6ac8d76c2",
   "metadata": {},
   "outputs": [
    {
     "name": "stdout",
     "output_type": "stream",
     "text": [
      "Setting up [LPIPS] perceptual loss: trunk [alex], v[0.1], spatial [off]\n",
      "Loading model from: /home/jakwisn/.pyenv/versions/3.11.4/lib/python3.11/site-packages/lpips/weights/v0.1/alex.pth\n"
     ]
    }
   ],
   "source": [
    "loss_func = lpips.LPIPS(net='alex').to(device)"
   ]
  },
  {
   "cell_type": "code",
   "execution_count": 138,
   "id": "224667fc-0fae-45f3-913f-49ed2f2394ec",
   "metadata": {},
   "outputs": [
    {
     "name": "stderr",
     "output_type": "stream",
     "text": [
      "  0%|                                                                                                                           | 0/25 [00:00<?, ?it/s]11:22:47 - INFO: Sampling 6 new images....\n",
      "100%|████████████████████████████████████████████████████████████████████████████████████████████████████████████████| 499/499 [00:18<00:00, 27.06it/s]\n",
      "  4%|████▌                                                                                                              | 1/25 [00:18<07:31, 18.81s/it]11:23:06 - INFO: Sampling 6 new images....\n",
      "100%|████████████████████████████████████████████████████████████████████████████████████████████████████████████████| 499/499 [00:17<00:00, 27.81it/s]\n",
      "  8%|█████████▏                                                                                                         | 2/25 [00:36<07:01, 18.31s/it]11:23:24 - INFO: Sampling 6 new images....\n",
      "100%|████████████████████████████████████████████████████████████████████████████████████████████████████████████████| 499/499 [00:19<00:00, 26.09it/s]\n",
      " 12%|█████████████▊                                                                                                     | 3/25 [00:55<06:51, 18.69s/it]11:23:43 - INFO: Sampling 6 new images....\n",
      "100%|████████████████████████████████████████████████████████████████████████████████████████████████████████████████| 499/499 [00:18<00:00, 27.24it/s]\n",
      " 16%|██████████████████▍                                                                                                | 4/25 [01:14<06:29, 18.55s/it]11:24:01 - INFO: Sampling 6 new images....\n",
      "100%|████████████████████████████████████████████████████████████████████████████████████████████████████████████████| 499/499 [00:18<00:00, 26.34it/s]\n",
      " 20%|███████████████████████                                                                                            | 5/25 [01:33<06:13, 18.69s/it]11:24:20 - INFO: Sampling 6 new images....\n",
      "100%|████████████████████████████████████████████████████████████████████████████████████████████████████████████████| 499/499 [00:18<00:00, 27.04it/s]\n",
      " 24%|███████████████████████████▌                                                                                       | 6/25 [01:51<05:53, 18.62s/it]11:24:39 - INFO: Sampling 6 new images....\n",
      "100%|████████████████████████████████████████████████████████████████████████████████████████████████████████████████| 499/499 [00:17<00:00, 28.07it/s]\n",
      " 28%|████████████████████████████████▏                                                                                  | 7/25 [02:09<05:30, 18.35s/it]11:24:56 - INFO: Sampling 6 new images....\n",
      "100%|████████████████████████████████████████████████████████████████████████████████████████████████████████████████| 499/499 [00:17<00:00, 27.74it/s]\n",
      " 32%|████████████████████████████████████▊                                                                              | 8/25 [02:27<05:09, 18.24s/it]11:25:14 - INFO: Sampling 6 new images....\n",
      "100%|████████████████████████████████████████████████████████████████████████████████████████████████████████████████| 499/499 [00:18<00:00, 27.55it/s]\n",
      " 36%|█████████████████████████████████████████▍                                                                         | 9/25 [02:45<04:51, 18.20s/it]11:25:33 - INFO: Sampling 6 new images....\n",
      "100%|████████████████████████████████████████████████████████████████████████████████████████████████████████████████| 499/499 [00:17<00:00, 27.97it/s]\n",
      " 40%|█████████████████████████████████████████████▌                                                                    | 10/25 [03:03<04:31, 18.09s/it]11:25:50 - INFO: Sampling 6 new images....\n",
      "100%|████████████████████████████████████████████████████████████████████████████████████████████████████████████████| 499/499 [00:17<00:00, 27.74it/s]\n",
      " 44%|██████████████████████████████████████████████████▏                                                               | 11/25 [03:21<04:12, 18.06s/it]11:26:08 - INFO: Sampling 6 new images....\n",
      "100%|████████████████████████████████████████████████████████████████████████████████████████████████████████████████| 499/499 [00:20<00:00, 24.19it/s]\n",
      " 48%|██████████████████████████████████████████████████████▋                                                           | 12/25 [03:42<04:05, 18.85s/it]11:26:29 - INFO: Sampling 6 new images....\n",
      "100%|████████████████████████████████████████████████████████████████████████████████████████████████████████████████| 499/499 [00:17<00:00, 28.27it/s]\n",
      " 52%|███████████████████████████████████████████████████████████▎                                                      | 13/25 [03:59<03:41, 18.49s/it]11:26:47 - INFO: Sampling 6 new images....\n",
      "100%|████████████████████████████████████████████████████████████████████████████████████████████████████████████████| 499/499 [00:17<00:00, 28.21it/s]\n",
      " 56%|███████████████████████████████████████████████████████████████▊                                                  | 14/25 [04:17<03:20, 18.25s/it]11:27:04 - INFO: Sampling 6 new images....\n",
      "100%|████████████████████████████████████████████████████████████████████████████████████████████████████████████████| 499/499 [00:17<00:00, 28.55it/s]\n",
      " 60%|████████████████████████████████████████████████████████████████████▍                                             | 15/25 [04:34<03:00, 18.02s/it]11:27:22 - INFO: Sampling 6 new images....\n",
      "100%|████████████████████████████████████████████████████████████████████████████████████████████████████████████████| 499/499 [00:19<00:00, 25.61it/s]\n",
      " 64%|████████████████████████████████████████████████████████████████████████▉                                         | 16/25 [04:54<02:46, 18.46s/it]11:27:41 - INFO: Sampling 6 new images....\n",
      "100%|████████████████████████████████████████████████████████████████████████████████████████████████████████████████| 499/499 [00:18<00:00, 27.10it/s]\n",
      " 68%|█████████████████████████████████████████████████████████████████████████████▌                                    | 17/25 [05:12<02:27, 18.45s/it]11:28:00 - INFO: Sampling 6 new images....\n",
      "100%|████████████████████████████████████████████████████████████████████████████████████████████████████████████████| 499/499 [00:18<00:00, 27.22it/s]\n",
      " 72%|██████████████████████████████████████████████████████████████████████████████████                                | 18/25 [05:31<02:08, 18.42s/it]11:28:18 - INFO: Sampling 6 new images....\n",
      "100%|████████████████████████████████████████████████████████████████████████████████████████████████████████████████| 499/499 [00:19<00:00, 25.55it/s]\n",
      " 76%|██████████████████████████████████████████████████████████████████████████████████████▋                           | 19/25 [05:50<01:52, 18.76s/it]11:28:38 - INFO: Sampling 6 new images....\n",
      "100%|████████████████████████████████████████████████████████████████████████████████████████████████████████████████| 499/499 [00:20<00:00, 24.60it/s]\n",
      " 80%|███████████████████████████████████████████████████████████████████████████████████████████▏                      | 20/25 [06:11<01:36, 19.22s/it]11:28:58 - INFO: Sampling 6 new images....\n",
      "100%|████████████████████████████████████████████████████████████████████████████████████████████████████████████████| 499/499 [00:20<00:00, 24.17it/s]\n",
      " 84%|███████████████████████████████████████████████████████████████████████████████████████████████▊                  | 21/25 [06:31<01:18, 19.65s/it]11:29:19 - INFO: Sampling 6 new images....\n",
      "100%|████████████████████████████████████████████████████████████████████████████████████████████████████████████████| 499/499 [00:18<00:00, 26.67it/s]\n",
      " 88%|████████████████████████████████████████████████████████████████████████████████████████████████████▎             | 22/25 [06:50<00:58, 19.37s/it]11:29:37 - INFO: Sampling 6 new images....\n",
      "100%|████████████████████████████████████████████████████████████████████████████████████████████████████████████████| 499/499 [00:18<00:00, 26.59it/s]\n",
      " 92%|████████████████████████████████████████████████████████████████████████████████████████████████████████▉         | 23/25 [07:09<00:38, 19.19s/it]11:29:56 - INFO: Sampling 6 new images....\n",
      "100%|████████████████████████████████████████████████████████████████████████████████████████████████████████████████| 499/499 [00:18<00:00, 26.61it/s]\n",
      " 96%|█████████████████████████████████████████████████████████████████████████████████████████████████████████████▍    | 24/25 [07:27<00:19, 19.06s/it]11:30:15 - INFO: Sampling 6 new images....\n",
      "100%|████████████████████████████████████████████████████████████████████████████████████████████████████████████████| 499/499 [00:18<00:00, 26.82it/s]\n",
      "100%|██████████████████████████████████████████████████████████████████████████████████████████████████████████████████| 25/25 [07:46<00:00, 18.66s/it]\n"
     ]
    }
   ],
   "source": [
    "pbar = tqdm(test_dataloader)\n",
    "losses = []\n",
    "with torch.no_grad():\n",
    "    for i, (images, masks) in enumerate(pbar):\n",
    "        images = images.to(device)\n",
    "        masks = masks.to(device).unsqueeze(1)\n",
    "\n",
    "        sampled_images = diffusion.p_sample_loop(images, masks, model,  batch_size=images.shape[0])\n",
    "        l = loss_func(images, sampled_images)\n",
    "        losses.append(l.detach().cpu())"
   ]
  },
  {
   "cell_type": "code",
   "execution_count": 139,
   "id": "93ea9dbf-5380-4f8d-b35a-87e98d2d8d69",
   "metadata": {},
   "outputs": [],
   "source": [
    "pretrained_mse = np.array([x.flatten().numpy() for x in losses]).flatten()"
   ]
  },
  {
   "cell_type": "code",
   "execution_count": 121,
   "id": "609c51c5-f144-489a-9379-2fa929ec1a8e",
   "metadata": {},
   "outputs": [
    {
     "data": {
      "text/plain": [
       "0.0066363807"
      ]
     },
     "execution_count": 121,
     "metadata": {},
     "output_type": "execute_result"
    }
   ],
   "source": [
    "pretrained_lpips.mean()"
   ]
  },
  {
   "cell_type": "code",
   "execution_count": 141,
   "id": "13fb027d-3ba1-4c7b-9593-d500f7050062",
   "metadata": {},
   "outputs": [
    {
     "data": {
      "text/plain": [
       "0.02665531"
      ]
     },
     "execution_count": 141,
     "metadata": {},
     "output_type": "execute_result"
    }
   ],
   "source": [
    "pretrained_mse.mean()"
   ]
  },
  {
   "cell_type": "code",
   "execution_count": 123,
   "id": "0759a793-a2f2-44a1-b0bc-6bdbaeb9e380",
   "metadata": {},
   "outputs": [
    {
     "data": {
      "text/plain": [
       "0.03231652"
      ]
     },
     "execution_count": 123,
     "metadata": {},
     "output_type": "execute_result"
    }
   ],
   "source": [
    "raw_mse.mean()"
   ]
  },
  {
   "cell_type": "code",
   "execution_count": 124,
   "id": "d9d8b315-4e75-4334-b3ff-e4a0125818f8",
   "metadata": {},
   "outputs": [
    {
     "data": {
      "text/plain": [
       "0.27392277"
      ]
     },
     "execution_count": 124,
     "metadata": {},
     "output_type": "execute_result"
    }
   ],
   "source": [
    "raw_lpips.mean()"
   ]
  },
  {
   "cell_type": "markdown",
   "id": "3a1c709c-1f83-4f4b-9b90-9fb434b4c7d7",
   "metadata": {},
   "source": [
    "# algo: \n",
    "## q-sample\n",
    "* we do it normally, for full image\n",
    "* after everything we apply masks to each of the noised image\n",
    "\n",
    "## p sample \n",
    "* we take noised image and denoise it\n",
    "* we apply masks and get values only for the maksed regions\n",
    "* we then add corresponding noised image from the q sample with masks "
   ]
  },
  {
   "cell_type": "code",
   "execution_count": null,
   "id": "a329ac5c-0503-484a-9512-920d6c2e80e9",
   "metadata": {},
   "outputs": [],
   "source": [
    "set_seed(SEED)\n",
    "im, mask = train_dataset[0]\n",
    "\n",
    "\n",
    "# Apply the mask to all three channels of the image\n",
    "result = im * mask.unsqueeze(0)\n",
    "print(result[0,0,0])\n",
    "plt.imshow(result.permute(1,2,0))\n",
    "plt.show()"
   ]
  },
  {
   "cell_type": "code",
   "execution_count": null,
   "id": "18dc92e2-2abc-4c9d-95f6-71679cf0c758",
   "metadata": {},
   "outputs": [],
   "source": []
  }
 ],
 "metadata": {
  "kernelspec": {
   "display_name": "Python 3 (ipykernel)",
   "language": "python",
   "name": "python3"
  },
  "language_info": {
   "codemirror_mode": {
    "name": "ipython",
    "version": 3
   },
   "file_extension": ".py",
   "mimetype": "text/x-python",
   "name": "python",
   "nbconvert_exporter": "python",
   "pygments_lexer": "ipython3",
   "version": "3.11.4"
  }
 },
 "nbformat": 4,
 "nbformat_minor": 5
}
